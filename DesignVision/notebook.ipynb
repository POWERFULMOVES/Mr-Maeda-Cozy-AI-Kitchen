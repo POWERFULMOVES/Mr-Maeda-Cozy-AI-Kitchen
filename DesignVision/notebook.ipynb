{
 "cells": [
  {
   "cell_type": "markdown",
   "metadata": {},
   "source": [
    "# Paola Antonelli: Design Visionary Of This Century\n",
    "\n",
    "### \"People think that design is styling. Design is not style. It's not about giving shape to the shell and not giving a damn about the guts. Good design is a renaissance attitude that combines technology, cognitive science, human need and beauty to produce something that the world didn't know it was missing.\" —via [Forbes](https://www.forbes.com/sites/propointgraphics/2017/06/17/design-thinking-your-next-competitive-advantage/)\n",
    "\n",
    "### With Paola, we look at how AI *completion* models are guided for use in predictions that are sometimes right-ish and sometimes wrong-ish."
   ]
  },
  {
   "cell_type": "markdown",
   "metadata": {},
   "source": [
    "Instructions for getting cozy with this AI recipe are on the [GitHub page's README](https://aka.ms/CAIK-repo). "
   ]
  },
  {
   "cell_type": "markdown",
   "metadata": {},
   "source": [
    "# 🧑‍🍳 Recipe for AI-driven Design Vision Predictions\n",
    "\n",
    "- ~300 tokens from Pre-trained Foundation Model\n",
    "- 1 list of past datapoints\n",
    " \n",
    "Place predictions into a \"few-shot\" format and process them with an AI model through a system like Semantic Kernel. \n",
    "\n",
    "Taste for quality, and then plate appropriately."
   ]
  },
  {
   "cell_type": "markdown",
   "metadata": {},
   "source": [
    "> [!IMPORTANT]\n",
    "> You will need an [.Net 7 SDK](https://dotnet.microsoft.com/en-us/download) and [Polyglot](https://marketplace.visualstudio.com/items?itemName=ms-dotnettools.dotnet-interactive-vscode) to get started with this notebook using .Net Interactive"
   ]
  },
  {
   "cell_type": "markdown",
   "metadata": {},
   "source": [
    "# Gather the core tools 🧰\n",
    "\n",
    "When running the following cell, if asked to \"select your kernel\" (note this will be referring to the Jupyter notebook's kernel and not Semantic Kernel) then choose `.NET Interactive` from the available menu options."
   ]
  },
  {
   "cell_type": "code",
   "execution_count": null,
   "metadata": {
    "dotnet_interactive": {
     "language": "csharp"
    },
    "polyglot_notebook": {
     "kernelName": "csharp"
    },
    "vscode": {
     "languageId": "polyglot-notebook"
    }
   },
   "outputs": [],
   "source": [
    "// Load some helper functions, e.g. to load values from settings.json\n",
    "#!import ../config/Settings.cs \n",
    "#r \"nuget: Microsoft.SemanticKernel, 0.20.230821.4-preview\""
   ]
  },
  {
   "cell_type": "markdown",
   "metadata": {},
   "source": [
    "# Fire up a kernel 🔥"
   ]
  },
  {
   "cell_type": "code",
   "execution_count": null,
   "metadata": {
    "dotnet_interactive": {
     "language": "csharp"
    },
    "polyglot_notebook": {
     "kernelName": "csharp"
    },
    "vscode": {
     "languageId": "polyglot-notebook"
    }
   },
   "outputs": [],
   "source": [
    "using Microsoft.SemanticKernel;\n",
    "using System;\n",
    "using System.Threading.Tasks;\n",
    "\n",
    "var builder = new KernelBuilder();\n",
    "\n",
    "var (useAzureOpenAI, model, azureEndpoint, apiKey, orgId) = Settings.LoadFromFile();\n",
    "\n",
    "// model = \"gpt-4\";\n",
    "\n",
    "Console.WriteLine($\"Using 🧱 Model: {model}\");\n",
    "\n",
    "if (useAzureOpenAI)\n",
    "    builder.WithAzureChatCompletionService(model, azureEndpoint, apiKey);\n",
    "else\n",
    "    builder.WithOpenAIChatCompletionService(model, apiKey, orgId);\n",
    "\n",
    "IKernel kernel = builder.Build();"
   ]
  },
  {
   "cell_type": "markdown",
   "metadata": {},
   "source": [
    "# Use one of the 🔌 PLUGINs with 📄 input of your choice"
   ]
  },
  {
   "cell_type": "code",
   "execution_count": null,
   "metadata": {
    "dotnet_interactive": {
     "language": "csharp"
    },
    "polyglot_notebook": {
     "kernelName": "csharp"
    },
    "vscode": {
     "languageId": "polyglot-notebook"
    }
   },
   "outputs": [],
   "source": [
    "using Microsoft.SemanticKernel.Orchestration;\n",
    "\n",
    "TimeSpan startTime = TimeSpan.FromTicks(DateTime.Now.Ticks);\n",
    "\n",
    "// Load the Skills Directory\n",
    "var pluginsSKDirectory = \"plugins-sk\";\n",
    "\n",
    "var cbFunctions = kernel.ImportSemanticSkillFromDirectory(pluginsSKDirectory, \"CrystalBall\");\n",
    "\n",
    "var myContext = new ContextVariables(); \n",
    "\n",
    "myContext.Set(\"input\", @\"\n",
    "Paola Antonelli joined The Museum of Modern Art in 1994 and is the Museum’s Senior Curator in the Department of Architecture and Design, as well as MoMA’s founding Director of Research and Development. Her work investigates design in all its forms, from architecture to video games, often expanding its reach to include overlooked objects and practices. Her exhibitions, lectures, and writings contemplate design’s intersection and interaction with other fields (from technology and biology to popular culture) and with life—that of individuals, communities, all species, and all planets. Her goal is to promote people’s understanding of design, until its positive influence on the world is universally acknowledged.\n",
    "An architect trained at the Polytechnic of Milan and a pasionaria of design, Antonelli has been named one of the 25 most incisive design visionaries in the world by TIME magazine, has earned the Design Mind Smithsonian Institution’s National Design Award, has been inducted in the US Art Directors Club Hall of Fame, and has received the AIGA (American Institute of Graphic Artists,) the London Design Medal, and the German Design Award, among other accolades.\n",
    "\"); \n",
    "myContext.Set(\"professionalhistory\", @\"\n",
    "The first important exhibition at the museum curated by Antonelli opened in 1995 and was titled Mutant Materials in Contemporary Design. This was followed in 1996 by Thresholds: Contemporary Design from the Netherlands; Achille Castiglioni: Design! in 1997 (through 1998); Projects 66: Campana/Ingo Maurer in 1999; Open Ends and Matter (September 2000 – February 2001). Her 2001 exhibition Workspheres was devoted to the design of the workplace of the near future. In 2005 she curated the exhibition entitled Safe: Design Takes on Risk also at MoMA.\n",
    "\n",
    "She curated the exhibition entitled 'Safe' in 2005 based on her show at the International Design Conference in Aspen (August 20–23, 2003), similarly entitled 'Safe: Design Takes on Risk.'' Other recent projects include a book about food worldwide, as examples of distinctive design, and a television program on design. As a curator, Antonelli has added various video games to the permanent collection of the Museum of Modern Art[6] and she has been attempting to include Boeing 747 in MoMA's permanent collection as well.[7]\n",
    "\n",
    "Together with Jamer Hunt, Antonelli established an installation entitled Design and Violence which focuses on the physical representation of some of humanity's most prominent features, such as sex, aggression, and smelliness. One piece, for example, is a vial of synthetic sweat. Of the exhibit, Antonelli says, 'We wanted objects that have an ambiguous relationship with violence. Each object—an outline of a drone, a self-guided bullet, a stiletto—is selected to highlight both the beneficial and also destructive side of design. Design is multidimensional nowadays, and Antonelli and Hunt aimed to represent this.[8]\n",
    "\n",
    "In 2017, Antonelli and Michelle Millar Fisher curated 'Items: Is Fashion Modern?', an exhibition that explores 111 items of clothing and accessories that have had a strong impact on the world in the 20th and 21st centuries[9] and taught a related massive open online course (MOOC) titled Fashion as Design.\n",
    "In an exhibit featuring video games such as Pac-Man, Tetris, and Minecraft, viewers are intended to actually play the games to showcase the interaction design of these products. The Guardian, for example, responded, 'Sorry MoMA, Video Games Are Not Art'\n",
    "\");\n",
    "\n",
    "var myResult = await kernel.RunAsync(myContext,cbFunctions[\"Futurist\"]);\n",
    "\n",
    "TimeSpan endTime = TimeSpan.FromTicks(DateTime.Now.Ticks);\n",
    "TimeSpan elapsed = endTime - startTime;\n",
    "\n",
    "// Return the result to the Notebook\n",
    "Console.WriteLine(myResult);"
   ]
  },
  {
   "cell_type": "markdown",
   "metadata": {},
   "source": [
    "# Plate the finished meal 🍽️"
   ]
  },
  {
   "cell_type": "code",
   "execution_count": null,
   "metadata": {
    "dotnet_interactive": {
     "language": "csharp"
    },
    "polyglot_notebook": {
     "kernelName": "csharp"
    },
    "vscode": {
     "languageId": "polyglot-notebook"
    }
   },
   "outputs": [],
   "source": [
    "using Microsoft.AspNetCore.Html;\n",
    "using Markdig;\n",
    "\n",
    "var myPipeline = new MarkdownPipelineBuilder().UseAdvancedExtensions().Build();\n",
    "var myResult2HTML = Markdown.ToHtml(\"# The future?\\n\" + myResult.ToString(), myPipeline);\n",
    "var myHTMLContent = new HtmlContentBuilder();\n",
    "\n",
    "myHTMLContent.AppendHtml(myResult2HTML);\n",
    "myHTMLContent"
   ]
  },
  {
   "cell_type": "markdown",
   "metadata": {},
   "source": [
    "# Check out the science of your cooking 📐"
   ]
  },
  {
   "cell_type": "code",
   "execution_count": null,
   "metadata": {
    "dotnet_interactive": {
     "language": "csharp"
    },
    "polyglot_notebook": {
     "kernelName": "csharp"
    },
    "vscode": {
     "languageId": "polyglot-notebook"
    }
   },
   "outputs": [],
   "source": [
    "using System.Text.Json;\n",
    "\n",
    "var usageresult = myResult.ModelResults.Select(result => result.GetOpenAIChatResult()?.Usage);\n",
    "var injson = JsonSerializer.Serialize(usageresult, new JsonSerializerOptions { WriteIndented = true });\n",
    "Console.WriteLine($\"🧱 The MODEL used:\\n\\n> {model}\\n\");\n",
    "Console.WriteLine($\"💸 How many TOKENS were used?\\n\\n{injson}\\n\");\n",
    "Console.WriteLine($\"⏰ How much TIME did it take?\\n\\n> {elapsed.TotalMilliseconds} ms\\n\");\n",
    "String functionName = \"Futurist\";\n",
    "Console.WriteLine($\"🌡️ What TEMPERATURE setting was used?\\n\\n> {cbFunctions[functionName].RequestSettings.Temperature} (0 is 🥶 ; 1 is 🥵)\\n\");\n",
    "Console.WriteLine($\"🙊 What TOP P setting was used?\\n\\n> {cbFunctions[functionName].RequestSettings.TopP} (0 is 😑 ; 1 is 🤯)\");"
   ]
  }
 ],
 "metadata": {
  "language_info": {
   "name": "python"
  },
  "orig_nbformat": 4
 },
 "nbformat": 4,
 "nbformat_minor": 2
}
