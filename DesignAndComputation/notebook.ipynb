{
 "cells": [
  {
   "cell_type": "markdown",
   "metadata": {},
   "source": [
    "# 🧑‍🍳 Design and Computation: The Origins Of Mr. Maeda's Cozy AI Kitchen\n",
    "\n",
    "\"Without being able to know how to program, you can't break out of digital design tools. Just like if you don't know how to use brush and ink, you're limited as a traditional artist.\" —[NYT 1997](https://www.nytimes.com/1999/07/27/science/a-conversation-with-john-maeda-when-mit-artist-shouts-his-painting-listens.html)\n",
    "\n",
    "[![](imgs/caik.png)](https://aka.ms/caik)"
   ]
  },
  {
   "cell_type": "markdown",
   "metadata": {},
   "source": [
    "## ☂️ Background\n",
    "\n",
    "![](imgs/chinatown.png)\n",
    "![](imgs/startofufront.jpg)\n",
    "![](imgs/startofuback.jpg)\n",
    "![](imgs/startofuinside.jpg)\n",
    "![](imgs/startofumom.jpg)"
   ]
  },
  {
   "cell_type": "markdown",
   "metadata": {},
   "source": [
    "### 💬 \"John is good at math and art.\"\n",
    "> —my teacher in 5th grade\n",
    "\n",
    "### 💬 \"John is good at math.\" \n",
    "> —what my parents said they heard"
   ]
  },
  {
   "cell_type": "markdown",
   "metadata": {},
   "source": [
    "## 🙏 Thank you Mr. Wakefield (1928-2009)!\n",
    "\n",
    "![](imgs/mrwakefield.png)"
   ]
  },
  {
   "cell_type": "markdown",
   "metadata": {},
   "source": [
    "## 🏁 Made it to MIT!\n",
    "\n",
    "![](imgs/mit.png)"
   ]
  },
  {
   "cell_type": "markdown",
   "metadata": {},
   "source": [
    "## ▶️ CodeWarrior &rarr; Design By Numbers\n",
    "\n",
    "[![](imgs/dbn.png)](https://twitter.com/zachlieberman/status/1716450175160361076)\n",
    "\n",
    "[Technical note](https://www.media.mit.edu/projects/design-by-numbers-again/overview/) on the recently revived Design By Numbers system."
   ]
  },
  {
   "cell_type": "markdown",
   "metadata": {},
   "source": [
    "## 🔵 Processing\n",
    "\n",
    "[![](imgs/processing.png)](https://processingfoundation.org/)\n",
    "\n",
    "## 🟡 OpenFrameworks\n",
    "\n",
    "[![](imgs/openframeworks.png)](https://openframeworks.cc/)\n",
    "\n",
    "## 👯 Scratch\n",
    "\n",
    "[![](imgs/scratch.png)](https://scratch.mit.edu/)"
   ]
  },
  {
   "cell_type": "markdown",
   "metadata": {},
   "source": [
    "## 🏎️ Living long means lots happened along the way ...\n",
    "\n",
    "### Started as Software Dev + HCI Researcher &rarr; MIT Professor &rarr; University President &rarr; Venture Capital Partner &rarr; Sonos BOD + Wieden + Kennedy BOD &rarr; Series D Startup CDO &rarr; Consultancy/SI CXO &rarr; Mid-Cap SaaS Company CTO &rarr; Microsoft VP AI & Design"
   ]
  },
  {
   "cell_type": "markdown",
   "metadata": {},
   "source": [
    "# 🧑‍🍳 But today ... let's make tofu in the Cozy AI Kitchen \n",
    "\n",
    "## 🍰 Recipe for AI-generated tofu\n",
    "\n",
    "~300 tokens for an image generation foundation model\n",
    "\n",
    "Expose the original image to a multi-modal model to do this quickest. In this case we used GPT-4V to do the job.\n",
    "\n",
    "![](imgs/gpt4v.png)"
   ]
  },
  {
   "cell_type": "markdown",
   "metadata": {},
   "source": [
    "## 🔥 Fire up a kernel with an image generation model"
   ]
  },
  {
   "cell_type": "code",
   "execution_count": null,
   "metadata": {
    "dotnet_interactive": {
     "language": "csharp"
    },
    "polyglot_notebook": {
     "kernelName": "csharp"
    },
    "vscode": {
     "languageId": "polyglot-notebook"
    }
   },
   "outputs": [],
   "source": [
    "#r \"nuget: Microsoft.SemanticKernel, 1.0.0-beta3\"\n",
    "#!import ../config/Settings.cs\n",
    "\n",
    "using Microsoft.SemanticKernel;\n",
    "using Microsoft.SemanticKernel.AI.ImageGeneration; \n",
    "using Microsoft.SemanticKernel.AI.Embeddings;\n",
    "using Microsoft.SemanticKernel.AI.Embeddings.VectorOperations;\n",
    "using Microsoft.SemanticKernel.Connectors.AI.OpenAI;\n",
    "\n",
    "// Load OpenAI credentials from config/settings.json\n",
    "var (useAzureOpenAI, model, azureEndpoint, apiKey, orgId) = Settings.LoadFromFile();\n",
    "\n",
    "// Configure the three AI features: text embedding (using Ada), text completion (using DaVinci 3), image generation (DALL-E 2)\n",
    "var builder = new KernelBuilder();\n",
    "\n",
    "if(useAzureOpenAI)\n",
    "{\n",
    "    builder.WithAzureOpenAIImageGenerationService(azureEndpoint, apiKey);\n",
    "}\n",
    "else\n",
    "{\n",
    "    builder.WithOpenAIImageGenerationService(apiKey, orgId);\n",
    "}\n",
    "   \n",
    "var kernel = builder.Build();\n",
    "\n",
    "// Get AI service instance used to generate images\n",
    "var dallE = kernel.GetService<IImageGeneration>();"
   ]
  },
  {
   "cell_type": "markdown",
   "metadata": {},
   "source": [
    "## ✨ Generate the tofu image"
   ]
  },
  {
   "cell_type": "code",
   "execution_count": null,
   "metadata": {
    "dotnet_interactive": {
     "language": "csharp"
    },
    "polyglot_notebook": {
     "kernelName": "csharp"
    },
    "vscode": {
     "languageId": "polyglot-notebook"
    }
   },
   "outputs": [],
   "source": [
    "using System;\n",
    "using System.Threading.Tasks;\n",
    "using Microsoft.Extensions.Configuration;\n",
    "using Microsoft.SemanticKernel.Connectors.AI.OpenAI;\n",
    "using System.IO;\n",
    "\n",
    "using System.Net.Http;\n",
    "\n",
    "HttpClient httpClient = new HttpClient();\n",
    "\n",
    "async Task DownloadImageAsync(string uri, string localPath)\n",
    "{\n",
    "    using (HttpResponseMessage response = await httpClient.GetAsync(uri))\n",
    "    {\n",
    "        response.EnsureSuccessStatusCode();\n",
    "\n",
    "        using (Stream contentStream = await response.Content.ReadAsStreamAsync(), \n",
    "                fileStream = new FileStream(localPath, FileMode.Create, FileAccess.Write, FileShare.None))\n",
    "        {\n",
    "            await contentStream.CopyToAsync(fileStream);\n",
    "        }\n",
    "    }\n",
    "}\n",
    "\n",
    "var imageDescription = \"A close-up view of multiple blocks of tofu stacked haphazardly in a large tank of cold water, with light reflections on the surface.\";\n",
    "var image = await dallE.GenerateImageAsync(imageDescription, 256, 256);\n",
    "\n",
    "Console.WriteLine(imageDescription);\n",
    "Console.WriteLine(\"Image URL: \" + image);\n",
    "string uniqueFileName = \"abc-\" + Guid.NewGuid().ToString() + \".png\";\n",
    "Console.WriteLine(uniqueFileName);\n",
    "await DownloadImageAsync(image,uniqueFileName);\n"
   ]
  },
  {
   "cell_type": "markdown",
   "metadata": {},
   "source": [
    "# In closing ...\n",
    "\n",
    "## ❤️ Education is the ultimate ladder for success\n",
    "\n",
    "![](imgs/tofuya.jpg)\n",
    "\n",
    "I've lived it and believe it. I hope you enjoy cooking AI with me!"
   ]
  }
 ],
 "metadata": {
  "language_info": {
   "name": "python"
  }
 },
 "nbformat": 4,
 "nbformat_minor": 2
}
