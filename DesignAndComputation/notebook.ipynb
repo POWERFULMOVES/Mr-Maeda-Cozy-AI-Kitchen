{
 "cells": [
  {
   "cell_type": "markdown",
   "metadata": {},
   "source": [
    "# 🧑‍🍳 Secret Origins Of The Cozy AI Kitchen: John Maeda\n",
    "\n",
    "\"Without being able to know how to program, you can't break out of digital design tools. Just like if you don't know how to use brush and ink, you're limited as a traditional artist.\" —[NYT 1997](https://www.nytimes.com/1999/07/27/science/a-conversation-with-john-maeda-when-mit-artist-shouts-his-painting-listens.html)"
   ]
  },
  {
   "cell_type": "markdown",
   "metadata": {},
   "source": [
    "## ☂️ Background\n",
    "\n",
    "![](imgs/chinatown.png)\n",
    "![](imgs/thefront.jpg)\n",
    "![](imgs/theback.jpg)\n"
   ]
  },
  {
   "cell_type": "markdown",
   "metadata": {},
   "source": [
    "### 💬 \"John is good at math and art.\"\n",
    "> —my teacher in 5th grade\n",
    "\n",
    "### 💬 \"John is good at math.\" \n",
    "> —what my parents said they heard"
   ]
  },
  {
   "cell_type": "markdown",
   "metadata": {},
   "source": [
    "## 🙏 Thank you Mr. Wakefield (1928-2009)!\n",
    "\n",
    "![](imgs/mrwakefield.png)"
   ]
  },
  {
   "cell_type": "markdown",
   "metadata": {},
   "source": [
    "## 🏁 Made it to MIT!\n",
    "\n",
    "![](imgs/mit.png)"
   ]
  },
  {
   "cell_type": "markdown",
   "metadata": {},
   "source": [
    "## ▶️ CodeWarrior &rarr; Design By Numbers\n",
    "\n",
    "[![](imgs/dbn.png)](https://twitter.com/zachlieberman/status/1716450175160361076)\n",
    "\n",
    "[Technical note](https://www.media.mit.edu/projects/design-by-numbers-again/overview/) on the recently revived Design By Numbers system."
   ]
  },
  {
   "cell_type": "markdown",
   "metadata": {},
   "source": [
    "## 🔵 Processing\n",
    "\n",
    "[![](imgs/processing.png)](https://processingfoundation.org/)\n",
    "\n",
    "## 🟡 OpenFrameworks\n",
    "\n",
    "[![](imgs/openframeworks.png)](https://openframeworks.cc/)\n",
    "\n",
    "## 👯 Scratch\n",
    "\n",
    "[![](imgs/scratch.png)](https://scratch.mit.edu/)"
   ]
  },
  {
   "cell_type": "markdown",
   "metadata": {},
   "source": [
    "## 🏎️ Living long means lots happened along the way ...\n",
    "\n",
    "### Started as Software Dev + HCI Researcher &rarr; MIT Professor &rarr; University President &rarr; Venture Capital Partner &rarr; Sonos BOD + Wieden + Kennedy BOD &rarr; Series D Startup CDO &rarr; Consultancy/SI CXO &rarr; Mid-Cap SaaS Company CTO &rarr; Microsoft VP AI & Design"
   ]
  },
  {
   "cell_type": "markdown",
   "metadata": {},
   "source": [
    "## 🧑‍🍳 But today ... The Cozy AI Kitchen 🍰\n",
    "\n",
    "[![](imgs/caik.png)](https://aka.ms/caik)"
   ]
  },
  {
   "cell_type": "markdown",
   "metadata": {},
   "source": [
    "# In closing ...\n",
    "\n",
    "## ❤️ Education is the ultimate ladder for success\n",
    "\n",
    "![](imgs/tofuya.jpg)\n",
    "\n",
    "I've lived it and believe it. I hope you enjoy cooking AI with me!"
   ]
  }
 ],
 "metadata": {
  "language_info": {
   "name": "python"
  }
 },
 "nbformat": 4,
 "nbformat_minor": 2
}
