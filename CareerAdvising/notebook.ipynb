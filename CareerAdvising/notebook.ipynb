{
 "cells": [
  {
   "cell_type": "markdown",
   "metadata": {},
   "source": [
    "# Kevin Bethune: CCO/CEO of dreams • design + life\n",
    "\n",
    "### \"We should leverage uncertainty for the powerful, creativity-inducing variable that it is.\" —via [Reimagining Design: Unlocking Strategic Innovation](https://mitpress.mit.edu/featured-book-reimagining-design/)\n",
    "\n",
    "### With Kevin, we use embedding models to collect relevant quotes from his past to guide how career advice may happen."
   ]
  },
  {
   "cell_type": "markdown",
   "metadata": {},
   "source": [
    "# 🧑‍🍳 Recipe for AI-driven Career Advising\n",
    "\n",
    "- ~500 tokens from COMPLETION Pre-trained Foundation Model\n",
    "- ~1000 tokens from EMBEDDING Pre-trained Foundation Model\n",
    "- 1 list of Reimagining Design quotes\n",
    "- 1 PLUGIN for career advice\n",
    " \n",
    "First, run the list of quotes through the EMBEDDING model. \n",
    "\n",
    "Formulate which expertise you want to draw upon from the list of quotes.\n",
    "\n",
    "Lastly, take that context and have it drive the Career Advice plugin.\n",
    "\n",
    "Taste for quality, and then plate appropriately."
   ]
  },
  {
   "cell_type": "markdown",
   "metadata": {},
   "source": [
    "> [!IMPORTANT]\n",
    "> You will need an [.Net 7 SDK](https://dotnet.microsoft.com/en-us/download) and [Polyglot](https://marketplace.visualstudio.com/items?itemName=ms-dotnettools.dotnet-interactive-vscode) to get started with this notebook using .Net Interactive"
   ]
  },
  {
   "cell_type": "markdown",
   "metadata": {},
   "source": [
    "# Gather the core tools 🧰"
   ]
  },
  {
   "cell_type": "code",
   "execution_count": 35,
   "metadata": {
    "dotnet_interactive": {
     "language": "csharp"
    },
    "polyglot_notebook": {
     "kernelName": "csharp"
    },
    "vscode": {
     "languageId": "polyglot-notebook"
    }
   },
   "outputs": [],
   "source": [
    "// Load some helper functions, e.g. to load values from settings.json\n",
    "#!import ../config/Settings.cs "
   ]
  },
  {
   "cell_type": "code",
   "execution_count": 36,
   "metadata": {
    "dotnet_interactive": {
     "language": "csharp"
    },
    "polyglot_notebook": {
     "kernelName": "csharp"
    },
    "vscode": {
     "languageId": "polyglot-notebook"
    }
   },
   "outputs": [
    {
     "data": {
      "text/html": [
       "<div><div></div><div></div><div><strong>Installed Packages</strong><ul><li><span>Microsoft.SemanticKernel, 0.20.230821.4-preview</span></li><li><span>System.Linq.Async, 6.0.1</span></li></ul></div></div>"
      ]
     },
     "metadata": {},
     "output_type": "display_data"
    }
   ],
   "source": [
    "#r \"nuget: Microsoft.SemanticKernel, 0.20.230821.4-preview\"\n",
    "#r \"nuget: System.Linq.Async, 6.0.1\""
   ]
  },
  {
   "cell_type": "markdown",
   "metadata": {},
   "source": [
    "# Fire up a kernel with TWO models 🔥"
   ]
  },
  {
   "cell_type": "code",
   "execution_count": 37,
   "metadata": {
    "dotnet_interactive": {
     "language": "csharp"
    },
    "polyglot_notebook": {
     "kernelName": "csharp"
    },
    "vscode": {
     "languageId": "polyglot-notebook"
    }
   },
   "outputs": [],
   "source": [
    "using Microsoft.SemanticKernel;\n",
    "using Microsoft.SemanticKernel.Memory;\n",
    "\n",
    "var (useAzureOpenAI, model, azureEndpoint, apiKey, orgId) = Settings.LoadFromFile();\n",
    "\n",
    "var builder = new KernelBuilder();\n",
    "\n",
    "if (useAzureOpenAI)\n",
    "{\n",
    "    builder.WithAzureTextEmbeddingGenerationService(\"text-embedding-ada-002\", azureEndpoint, apiKey);\n",
    "    builder.WithAzureChatCompletionService(model, azureEndpoint, apiKey);\n",
    "}\n",
    "else\n",
    "{\n",
    "    builder.WithOpenAITextEmbeddingGenerationService(\"text-embedding-ada-002\", apiKey);\n",
    "    builder.WithOpenAIChatCompletionService(model, apiKey, orgId);\n",
    "}\n",
    "\n",
    "builder.WithMemoryStorage(new VolatileMemoryStore());\n",
    "\n",
    "var kernel = builder.Build();"
   ]
  },
  {
   "cell_type": "markdown",
   "metadata": {},
   "source": [
    "# Generate embeddings for later 🧲 gathering"
   ]
  },
  {
   "cell_type": "code",
   "execution_count": 38,
   "metadata": {
    "dotnet_interactive": {
     "language": "csharp"
    },
    "polyglot_notebook": {
     "kernelName": "csharp"
    },
    "vscode": {
     "languageId": "polyglot-notebook"
    }
   },
   "outputs": [],
   "source": [
    "const string MemoryCollectionName = \"kevinQuotes\";\n",
    "\n",
    "// Kevin quoted by his fans on GoodReads: https://www.goodreads.com/author/quotes/21599683.Kevin_G_Bethune\n",
    "\n",
    "await kernel.Memory.SaveInformationAsync(MemoryCollectionName, id: \"ReimaginingDesign1\", \n",
    "    text: \"I believe it’s very important to be more up-front about the hard realities we will face as innovators and still push ourselves forward with a sense of optimism and courage.\");\n",
    "await kernel.Memory.SaveInformationAsync(MemoryCollectionName, id: \"ReimaginingDesign2\", \n",
    "    text: \"The team needs to learn how to work together, align around the right imperatives, and develop their unique chemistry.\");\n",
    "await kernel.Memory.SaveInformationAsync(MemoryCollectionName, id: \"ReimaginingDesign3\", \n",
    "    text: \"The constellation of insights must line up in a compelling way, and usually those insights need to come from different vantage points to ensure an idea has a shot of making it into a well-timed, successful innovation that is desirable, viable, and technically feasible.\");\n",
    "await kernel.Memory.SaveInformationAsync(MemoryCollectionName, id: \"ReimaginingDesign4\", \n",
    "    text: \"We should leverage uncertainty for the powerful, creativity-inducing variable that it is.\");\n",
    "await kernel.Memory.SaveInformationAsync(MemoryCollectionName, id: \"ReimaginingDesign5\", \n",
    "    text: \"The quest for innovation against newly emerging realities requires us to bring disparate teams closer together and to create more bandwidth for actually collaborating with one another.\");\n",
    "await kernel.Memory.SaveInformationAsync(MemoryCollectionName, id: \"ReimaginingDesign6\", \n",
    "    text: \"Design still fights the perception of being the very last step in the value stream.\");\n",
    "await kernel.Memory.SaveInformationAsync(MemoryCollectionName, id: \"ReimaginingDesign7\", \n",
    "    text: \"Thanks to design thinking, most organizations are beginning to see the value of embracing design earlier in their processes.\");\n",
    "await kernel.Memory.SaveInformationAsync(MemoryCollectionName, id: \"ReimaginingDesign8\", \n",
    "    text: \"Moving on to incubation, as we build out our designed experiences, the designer should no longer (and can no longer) work in isolation from other disciplines.\");\n",
    "await kernel.Memory.SaveInformationAsync(MemoryCollectionName, id: \"ReimaginingDesign9\", \n",
    "    text: \"Design will play an important role in stringing the collective team’s efforts together in a cohesive way to optimize impact in the marketplace.\");"
   ]
  },
  {
   "cell_type": "markdown",
   "metadata": {},
   "source": [
    "# Experiment 🧪 with what you think is relevant and important "
   ]
  },
  {
   "cell_type": "code",
   "execution_count": 40,
   "metadata": {
    "dotnet_interactive": {
     "language": "csharp"
    },
    "polyglot_notebook": {
     "kernelName": "csharp"
    },
    "vscode": {
     "languageId": "polyglot-notebook"
    }
   },
   "outputs": [
    {
     "name": "stdout",
     "output_type": "stream",
     "text": [
      "how to make a pizza\n",
      "> The team needs to learn how to work together, align around the right imperatives, and develop their unique chemistry.\n",
      "challenges of businesses\n",
      "> I believe it’s very important to be more up-front about the hard realities we will face as innovators and still push ourselves forward with a sense of optimism and courage.\n"
     ]
    }
   ],
   "source": [
    "var questions = new[]\n",
    "{\n",
    "    \"how to make a pizza\",\n",
    "    \"challenges of businesses\"\n",
    "};\n",
    "\n",
    "foreach (var q in questions)\n",
    "{\n",
    "    var response = await kernel.Memory.SearchAsync(MemoryCollectionName, q).FirstOrDefaultAsync();\n",
    "    Console.WriteLine($\"{q}\\n> {response?.Metadata.Text}\");\n",
    "}"
   ]
  },
  {
   "cell_type": "markdown",
   "metadata": {},
   "source": [
    "# Plate the partially finished meal 🍽️"
   ]
  },
  {
   "cell_type": "code",
   "execution_count": 41,
   "metadata": {
    "dotnet_interactive": {
     "language": "csharp"
    },
    "polyglot_notebook": {
     "kernelName": "csharp"
    },
    "vscode": {
     "languageId": "polyglot-notebook"
    }
   },
   "outputs": [
    {
     "data": {
      "text/html": [
       "<h2 id=\"how-to-make-a-pizza\">how to make a pizza</h2>\n",
       "<blockquote>\n",
       "<p>The team needs to learn how to work together, align around the right imperatives, and develop their unique chemistry.</p>\n",
       "</blockquote>\n",
       "<h2 id=\"challenges-of-businesses\">challenges of businesses</h2>\n",
       "<blockquote>\n",
       "<p>I believe it’s very important to be more up-front about the hard realities we will face as innovators and still push ourselves forward with a sense of optimism and courage.</p>\n",
       "</blockquote>\n"
      ]
     },
     "metadata": {},
     "output_type": "display_data"
    }
   ],
   "source": [
    "using Microsoft.AspNetCore.Html;\n",
    "using Markdig;\n",
    "\n",
    "String foundInMemory = \"\";\n",
    "\n",
    "foreach (var q in questions)\n",
    "{\n",
    "    var response = await kernel.Memory.SearchAsync(MemoryCollectionName, q).FirstOrDefaultAsync();\n",
    "   foundInMemory += $\"## {q}\\n> {response?.Metadata.Text}\\n\\n\";\n",
    "}\n",
    "\n",
    "var myPipeline = new MarkdownPipelineBuilder().UseAdvancedExtensions().Build();\n",
    "var myResult2HTML = Markdown.ToHtml(foundInMemory, myPipeline);\n",
    "var myHTMLContent = new HtmlContentBuilder();\n",
    "\n",
    "myHTMLContent.AppendHtml(myResult2HTML);\n",
    "myHTMLContent"
   ]
  },
  {
   "cell_type": "markdown",
   "metadata": {},
   "source": [
    "# Now let's use a ✨ COMPLETION model that's grounded"
   ]
  },
  {
   "cell_type": "code",
   "execution_count": 42,
   "metadata": {
    "dotnet_interactive": {
     "language": "csharp"
    },
    "polyglot_notebook": {
     "kernelName": "csharp"
    },
    "vscode": {
     "languageId": "polyglot-notebook"
    }
   },
   "outputs": [
    {
     "name": "stdout",
     "output_type": "stream",
     "text": [
      "As a mentor in the field of design, I would advise you to consider becoming a graphic designer, industrial designer, or user experience (UX) designer. These fields offer a wide range of opportunities to express your creativity and problem-solving skills. Research each area to determine which aligns best with your interests and strengths.\n"
     ]
    }
   ],
   "source": [
    "var pluginsSKDirectory = \"plugins-sk\";\n",
    "\n",
    "var mnFunctions = kernel.ImportSemanticSkillFromDirectory(pluginsSKDirectory, \"Mentor\");\n",
    "\n",
    "var result = await mnFunctions[\"CareerAdviceGeneric\"].InvokeAsync(\n",
    "@\"\n",
    "What should I become?\");\n",
    "Console.WriteLine(result);\n"
   ]
  },
  {
   "cell_type": "code",
   "execution_count": 43,
   "metadata": {
    "dotnet_interactive": {
     "language": "csharp"
    },
    "polyglot_notebook": {
     "kernelName": "csharp"
    },
    "vscode": {
     "languageId": "polyglot-notebook"
    }
   },
   "outputs": [
    {
     "name": "stdout",
     "output_type": "stream",
     "text": [
      "As a mentor in the field of design, I believe it's important to be more up-front about the hard realities we will face as innovators and still push ourselves forward with a sense of optimism and courage.\n"
     ]
    }
   ],
   "source": [
    "using Microsoft.SemanticKernel.Orchestration;\n",
    "\n",
    "var myContext = new ContextVariables(); \n",
    "\n",
    "myContext.Set(\"input\", \"What should I become?\"); \n",
    "myContext.Set(\"beliefs\", \"I believe it’s very important to be more up-front about the hard realities we will face as innovators and still push ourselves forward with a sense of optimism and courage.\"); \n",
    "\n",
    "var myResult = await kernel.RunAsync(myContext,mnFunctions[\"CareerAdviceGrounded\"]);\n",
    "\n",
    "Console.WriteLine(myResult);\n"
   ]
  },
  {
   "cell_type": "markdown",
   "metadata": {},
   "source": [
    "# Let's look at the science 📐"
   ]
  },
  {
   "cell_type": "code",
   "execution_count": 44,
   "metadata": {
    "dotnet_interactive": {
     "language": "csharp"
    },
    "polyglot_notebook": {
     "kernelName": "csharp"
    },
    "vscode": {
     "languageId": "polyglot-notebook"
    }
   },
   "outputs": [
    {
     "name": "stdout",
     "output_type": "stream",
     "text": [
      "🧱 The MODEL used:\n",
      "\n",
      "> gpt-3.5-turbo\n",
      "\n",
      "💸 How many TOKENS were used?\n",
      "\n",
      "[\n",
      "  {\n",
      "    \"CompletionTokens\": 63,\n",
      "    \"PromptTokens\": 44,\n",
      "    \"TotalTokens\": 107\n",
      "  }\n",
      "]\n",
      "\n",
      "🌡️ What TEMPERATURE setting was used?\n",
      "\n",
      "> 0.3 (0 is 🥶 ; 1 is 🥵)\n",
      "\n",
      "🙊 What TOP P setting was used?\n",
      "\n",
      "> 0.5 (0 is 😑 ; 1 is 🤯)\n"
     ]
    }
   ],
   "source": [
    "using System.Text.Json;\n",
    "\n",
    "var usageresult = result.ModelResults.Select(result => result.GetOpenAIChatResult()?.Usage);\n",
    "var injson = JsonSerializer.Serialize(usageresult, new JsonSerializerOptions { WriteIndented = true });\n",
    "Console.WriteLine($\"🧱 The MODEL used:\\n\\n> {model}\\n\");\n",
    "Console.WriteLine($\"💸 How many TOKENS were used?\\n\\n{injson}\\n\");\n",
    "String functionName = \"CareerAdviceGrounded\";\n",
    "Console.WriteLine($\"🌡️ What TEMPERATURE setting was used?\\n\\n> {mnFunctions[functionName].RequestSettings.Temperature} (0 is 🥶 ; 1 is 🥵)\\n\");\n",
    "Console.WriteLine($\"🙊 What TOP P setting was used?\\n\\n> {mnFunctions[functionName].RequestSettings.TopP} (0 is 😑 ; 1 is 🤯)\");"
   ]
  }
 ],
 "metadata": {
  "language_info": {
   "name": "python"
  },
  "orig_nbformat": 4
 },
 "nbformat": 4,
 "nbformat_minor": 2
}
