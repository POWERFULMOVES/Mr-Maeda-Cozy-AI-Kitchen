{
 "cells": [
  {
   "cell_type": "markdown",
   "metadata": {},
   "source": [
    "# 🧑‍🍳 Ben Sheppard - Design Leadership Expert\n",
    "\n",
    "## \"Do we become authentic but simple apes in the face of AI overlords? Perhaps we APES will still have authentic leadership qualities that even the best AI will struggle to match for a while:\" —via [LinkedIn](https://www.linkedin.com/posts/benedictsheppard_generativeai-ai-leadership-activity-7054828376380821504-2wSM?utm_source=share&utm_medium=member_desktop)\n",
    "\n",
    "- **Accountability** - Leaders who embrace AI input, but personally shoulder responsibility for decisions, will be more respected than those who blame technology.\n",
    "- **Presence** - Leaders who disconnect from devices, truly engage with others, and listen intently will foster greater openness and empathy.\n",
    "- **Emotion** - Leaders who openly express their emotions will cultivate a familial atmosphere where others feel comfortable being honest and vulnerable.\n",
    "- **Sparkle** - Leaders who lead companies based on their authentic personal passions and imperfect human obsessions, whether than be cars or make-up, games or food, will inspire and energise those around them\n",
    "\n",
    "# With Ben, we look at the basics of AI *completion* models and how they work at the code level in the context of a fundamental concept in Design Thinking to consciously be customer-centric."
   ]
  },
  {
   "cell_type": "markdown",
   "metadata": {},
   "source": [
    "> [!IMPORTANT]\n",
    "> You will need an [.Net 7 SDK](https://dotnet.microsoft.com/en-us/download) and [Polyglot](https://marketplace.visualstudio.com/items?itemName=ms-dotnettools.dotnet-interactive-vscode) to get started with this notebook using .Net Interactive"
   ]
  },
  {
   "cell_type": "markdown",
   "metadata": {},
   "source": [
    "# Gather the core tools 🧰"
   ]
  },
  {
   "cell_type": "code",
   "execution_count": 1,
   "metadata": {
    "dotnet_interactive": {
     "language": "csharp"
    },
    "polyglot_notebook": {
     "kernelName": "csharp"
    },
    "vscode": {
     "languageId": "polyglot-notebook"
    }
   },
   "outputs": [],
   "source": [
    "// Load some helper functions, e.g. to load values from settings.json\n",
    "#!import ../config/Settings.cs "
   ]
  },
  {
   "cell_type": "code",
   "execution_count": 2,
   "metadata": {
    "dotnet_interactive": {
     "language": "csharp"
    },
    "polyglot_notebook": {
     "kernelName": "csharp"
    },
    "vscode": {
     "languageId": "polyglot-notebook"
    }
   },
   "outputs": [
    {
     "data": {
      "text/html": [
       "<div><div></div><div></div><div><strong>Installed Packages</strong><ul><li><span>Microsoft.SemanticKernel, 0.20.230821.4-preview</span></li></ul></div></div>"
      ]
     },
     "metadata": {},
     "output_type": "display_data"
    }
   ],
   "source": [
    "#r \"nuget: Microsoft.SemanticKernel, 0.20.230821.4-preview\""
   ]
  },
  {
   "cell_type": "markdown",
   "metadata": {},
   "source": [
    "# Fire up a kernel 🔥"
   ]
  },
  {
   "cell_type": "code",
   "execution_count": 32,
   "metadata": {
    "dotnet_interactive": {
     "language": "csharp"
    },
    "polyglot_notebook": {
     "kernelName": "csharp"
    },
    "vscode": {
     "languageId": "polyglot-notebook"
    }
   },
   "outputs": [
    {
     "name": "stdout",
     "output_type": "stream",
     "text": [
      "Using 🧱 Model: gpt-3.5-turbo\n"
     ]
    }
   ],
   "source": [
    "using Microsoft.SemanticKernel;\n",
    "using System;\n",
    "using System.Threading.Tasks;\n",
    "\n",
    "var builder = new KernelBuilder();\n",
    "\n",
    "var (useAzureOpenAI, model, azureEndpoint, apiKey, orgId) = Settings.LoadFromFile();\n",
    "\n",
    "// model = \"gpt-4\";\n",
    "\n",
    "Console.WriteLine($\"Using 🧱 Model: {model}\");\n",
    "\n",
    "if (useAzureOpenAI)\n",
    "    builder.WithAzureChatCompletionService(model, azureEndpoint, apiKey);\n",
    "else\n",
    "    builder.WithOpenAIChatCompletionService(model, apiKey, orgId);\n",
    "\n",
    "IKernel kernel = builder.Build();"
   ]
  },
  {
   "cell_type": "markdown",
   "metadata": {},
   "source": [
    "# Grab some seasoning 🧂 with 🔧 ingredients "
   ]
  },
  {
   "cell_type": "code",
   "execution_count": 66,
   "metadata": {
    "dotnet_interactive": {
     "language": "csharp"
    },
    "polyglot_notebook": {
     "kernelName": "csharp"
    },
    "vscode": {
     "languageId": "polyglot-notebook"
    }
   },
   "outputs": [
    {
     "name": "stdout",
     "output_type": "stream",
     "text": [
      "| Sentiment | Summary |\n",
      "| :--- | :--- |\n",
      "| Frustration | Radio won't turn on, Sputters due to static, No one knows how to fix it |\n",
      "| Satisfaction | Nice customer support people |\n",
      "| Confusion | Doesn't know what time it is |\n"
     ]
    }
   ],
   "source": [
    "TimeSpan startTime = TimeSpan.FromTicks(DateTime.Now.Ticks);\n",
    "\n",
    "// Load the Skills Directory\n",
    "var pluginsSKDirectory = \"plugins-sk\";\n",
    "\n",
    "// Load the FunSkill from the Skills Directory\n",
    "var dtFunctions = kernel.ImportSemanticSkillFromDirectory(pluginsSKDirectory, \"DesignThinking\");\n",
    "\n",
    "// Run the Function called Joke\n",
    "var result = await dtFunctions[\"EmpathizeTable\"].InvokeAsync(\n",
    "@\"\n",
    "1. Radio won't turn on\n",
    "2. Sputters due to static\n",
    "3. Nice customers support people\n",
    "4. No one knows how to fix it\n",
    "5. Doesn't know what time it is\");\n",
    "\n",
    "TimeSpan endTime = TimeSpan.FromTicks(DateTime.Now.Ticks);\n",
    "TimeSpan elapsed = endTime - startTime;\n",
    "\n",
    "// Return the result to the Notebook\n",
    "Console.WriteLine(result);"
   ]
  },
  {
   "cell_type": "markdown",
   "metadata": {},
   "source": [
    "# Plate the finished meal 🍽️"
   ]
  },
  {
   "cell_type": "code",
   "execution_count": 30,
   "metadata": {
    "dotnet_interactive": {
     "language": "csharp"
    },
    "polyglot_notebook": {
     "kernelName": "csharp"
    },
    "vscode": {
     "languageId": "polyglot-notebook"
    }
   },
   "outputs": [
    {
     "data": {
      "text/html": [
       "<h1 id=\"how-are-customers-feeling\">How are customers feeling?</h1>\n",
       "<table>\n",
       "<thead>\n",
       "<tr>\n",
       "<th style=\"text-align: left;\">Sentiment</th>\n",
       "<th style=\"text-align: left;\">Summary</th>\n",
       "</tr>\n",
       "</thead>\n",
       "<tbody>\n",
       "<tr>\n",
       "<td style=\"text-align: left;\">Dissatisfaction</td>\n",
       "<td style=\"text-align: left;\">Customers are experiencing technical issues with the product, such as the radio not turning on and static interference.</td>\n",
       "</tr>\n",
       "<tr>\n",
       "<td style=\"text-align: left;\">Frustration</td>\n",
       "<td style=\"text-align: left;\">Customers are upset because they feel that no one knows how to fix the issues they are experiencing with the product.</td>\n",
       "</tr>\n",
       "<tr>\n",
       "<td style=\"text-align: left;\">Satisfaction</td>\n",
       "<td style=\"text-align: left;\">Despite the issues with the product, customers appreciate the quality of customer support they received.</td>\n",
       "</tr>\n",
       "</tbody>\n",
       "</table>\n"
      ]
     },
     "metadata": {},
     "output_type": "display_data"
    }
   ],
   "source": [
    "using Microsoft.AspNetCore.Html;\n",
    "using Markdig;\n",
    "\n",
    "var myPipeline = new MarkdownPipelineBuilder().UseAdvancedExtensions().Build();\n",
    "var myResult2HTML = Markdown.ToHtml(\"# How are customers feeling?\\n\" + result.ToString(), myPipeline);\n",
    "var myHTMLContent = new HtmlContentBuilder();\n",
    "\n",
    "myHTMLContent.AppendHtml(myResult2HTML);\n",
    "myHTMLContent"
   ]
  },
  {
   "cell_type": "markdown",
   "metadata": {},
   "source": [
    "# Check out the science of cooking 📐"
   ]
  },
  {
   "cell_type": "code",
   "execution_count": 53,
   "metadata": {
    "dotnet_interactive": {
     "language": "csharp"
    },
    "polyglot_notebook": {
     "kernelName": "csharp"
    },
    "vscode": {
     "languageId": "polyglot-notebook"
    }
   },
   "outputs": [
    {
     "name": "stdout",
     "output_type": "stream",
     "text": [
      "🧱 The MODEL used:\n",
      "\n",
      "> gpt-3.5-turbo\n",
      "\n",
      "💸 How many TOKENS were used?\n",
      "\n",
      "[\n",
      "  {\n",
      "    \"CompletionTokens\": 59,\n",
      "    \"PromptTokens\": 147,\n",
      "    \"TotalTokens\": 206\n",
      "  }\n",
      "]\n",
      "\n",
      "⏰ How much TIME did it take?\n",
      "\n",
      "> 2779.07 ms\n",
      "\n",
      "🌡️ What TEMPERATURE setting was used?\n",
      "\n",
      "> 0.9 (0 is 🥶 ; 1 is 🥵)\n",
      "\n",
      "🙊 What TOP P setting was used?\n",
      "\n",
      "> 0.5 (0 is 😑 ; 1 is 🤯)\n"
     ]
    }
   ],
   "source": [
    "using System.Text.Json;\n",
    "\n",
    "var usageresult = result.ModelResults.Select(result => result.GetOpenAIChatResult()?.Usage);\n",
    "var injson = JsonSerializer.Serialize(foo, new JsonSerializerOptions { WriteIndented = true });\n",
    "Console.WriteLine($\"🧱 The MODEL used:\\n\\n> {model}\\n\");\n",
    "Console.WriteLine($\"💸 How many TOKENS were used?\\n\\n{injson}\\n\");\n",
    "Console.WriteLine($\"⏰ How much TIME did it take?\\n\\n> {elapsed.TotalMilliseconds} ms\\n\");\n",
    "String functionName = \"EmpathizeTable\";\n",
    "Console.WriteLine($\"🌡️ What TEMPERATURE setting was used?\\n\\n> {dtFunctions[functionName].RequestSettings.Temperature} (0 is 🥶 ; 1 is 🥵)\\n\");\n",
    "Console.WriteLine($\"🙊 What TOP P setting was used?\\n\\n> {dtFunctions[functionName].RequestSettings.TopP} (0 is 😑 ; 1 is 🤯)\");"
   ]
  },
  {
   "cell_type": "markdown",
   "metadata": {},
   "source": [
    "# A little more food processing ⚗️\n",
    "\n",
    "![](../assets/designthinking.png)"
   ]
  },
  {
   "cell_type": "code",
   "execution_count": 67,
   "metadata": {
    "dotnet_interactive": {
     "language": "csharp"
    },
    "polyglot_notebook": {
     "kernelName": "csharp"
    },
    "vscode": {
     "languageId": "polyglot-notebook"
    }
   },
   "outputs": [
    {
     "data": {
      "text/html": [
       "<h1 id=\"result\">Result</h1>\n",
       "<table>\n",
       "<thead>\n",
       "<tr>\n",
       "<th style=\"text-align: left;\">Analysis</th>\n",
       "<th style=\"text-align: left;\">Definition</th>\n",
       "<th style=\"text-align: left;\">Possible Source</th>\n",
       "</tr>\n",
       "</thead>\n",
       "<tbody>\n",
       "<tr>\n",
       "<td style=\"text-align: left;\">Issues with customer service response</td>\n",
       "<td style=\"text-align: left;\">Customers experiencing problems with the response from customer service</td>\n",
       "<td style=\"text-align: left;\">Inadequate training or communication breakdown within the customer service team</td>\n",
       "</tr>\n",
       "<tr>\n",
       "<td style=\"text-align: left;\">Power button problems</td>\n",
       "<td style=\"text-align: left;\">Customers facing difficulties with the power button functionality</td>\n",
       "<td style=\"text-align: left;\">Manufacturing defect or software issue</td>\n",
       "</tr>\n",
       "<tr>\n",
       "<td style=\"text-align: left;\">Display issues</td>\n",
       "<td style=\"text-align: left;\">Customers encountering problems with the display of the product</td>\n",
       "<td style=\"text-align: left;\">Faulty hardware or software bug</td>\n",
       "</tr>\n",
       "<tr>\n",
       "<td style=\"text-align: left;\">Difficulty reaching customer support</td>\n",
       "<td style=\"text-align: left;\">Customers finding it challenging to get in touch with customer support</td>\n",
       "<td style=\"text-align: left;\">Insufficient staffing or inefficient call routing system</td>\n",
       "</tr>\n",
       "<tr>\n",
       "<td style=\"text-align: left;\">Cracked display screen under warranty</td>\n",
       "<td style=\"text-align: left;\">Customers reporting cracked display screens while the product is still under warranty</td>\n",
       "<td style=\"text-align: left;\">Weakness in product durability or mishandling during shipping</td>\n",
       "</tr>\n",
       "</tbody>\n",
       "</table>\n",
       "<p>Note: The possible sources mentioned are just examples and may not cover all potential reasons for each case.</p>\n"
      ]
     },
     "metadata": {},
     "output_type": "display_data"
    }
   ],
   "source": [
    "var input = @\"\n",
    "Customer 1: The power button on my phone is broken. The warranty is still valid.\n",
    "Customer 2: My display stopped working.\n",
    "Customer 3: The customer service rep didn't answer my email.\n",
    "Customer 4: Every time I call customer support I get no answer.\n",
    "Customer 5: The display screen cracked and it's still under warranty.\n",
    "Customer 6: My power button fell off the phone. That's ridiculous.\n",
    "Customer 7: I'm so frustrated with this company.\n",
    "Customer 8: When I use the power button too much, it stops working.\n",
    "\";\n",
    "\n",
    "var myResult = await kernel.RunAsync(input, dtFunctions[\"Empathize\"], dtFunctions[\"Define\"]);\n",
    "\n",
    "var myPipeline = new MarkdownPipelineBuilder().UseAdvancedExtensions().Build();\n",
    "var myResult2HTML = Markdown.ToHtml(\"# Result\\n\" + myResult.ToString(), myPipeline);\n",
    "var myHTMLContent = new HtmlContentBuilder();\n",
    "\n",
    "myHTMLContent.AppendHtml(myResult2HTML);\n",
    "myHTMLContent"
   ]
  },
  {
   "cell_type": "code",
   "execution_count": 68,
   "metadata": {
    "dotnet_interactive": {
     "language": "csharp"
    },
    "polyglot_notebook": {
     "kernelName": "csharp"
    },
    "vscode": {
     "languageId": "polyglot-notebook"
    }
   },
   "outputs": [
    {
     "name": "stdout",
     "output_type": "stream",
     "text": [
      "🧱 The MODEL used:\n",
      "\n",
      "> gpt-3.5-turbo\n",
      "\n"
     ]
    }
   ],
   "source": [
    "Console.WriteLine($\"🧱 The MODEL used:\\n\\n> {model}\\n\");"
   ]
  }
 ],
 "metadata": {
  "language_info": {
   "name": "python"
  },
  "orig_nbformat": 4
 },
 "nbformat": 4,
 "nbformat_minor": 2
}
