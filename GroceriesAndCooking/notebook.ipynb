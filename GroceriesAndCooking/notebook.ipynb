{
 "cells": [
  {
   "cell_type": "markdown",
   "metadata": {},
   "source": [
    "# Tim Allen: Design and Research Craftsman\n",
    "\n",
    "### \"What’s the least amount of fidelity you can give to an idea that allows people to understand that it’s a great idea?\" —via [Finding Our Way](https://findingourway.design/2023/04/12/38-the-craft-led-design-executive-ft-tim-allen/)\n",
    "\n",
    "### We think across the food, cooking, and groceries space with the Tim Allen"
   ]
  },
  {
   "cell_type": "markdown",
   "metadata": {},
   "source": [
    "Instructions for getting cozy with this AI recipe are on the [GitHub page's README](https://aka.ms/CAIK-repo). "
   ]
  },
  {
   "cell_type": "markdown",
   "metadata": {},
   "source": [
    "# 🧑‍🍳 Recipe for AI-driven \n",
    "\n",
    "- ~500 tokens from COMPLETION Pre-trained Foundation Model\n",
    "- borrow a little multi-modal AI model energy from GPT-4V"
   ]
  },
  {
   "cell_type": "markdown",
   "metadata": {},
   "source": [
    "> [!IMPORTANT]\n",
    "> You will need an [.Net 7 SDK](https://dotnet.microsoft.com/en-us/download) and [Polyglot](https://marketplace.visualstudio.com/items?itemName=ms-dotnettools.dotnet-interactive-vscode) to get started with this notebook using .Net Interactive"
   ]
  },
  {
   "cell_type": "markdown",
   "metadata": {},
   "source": [
    "# Gather the core tools 🧰\n",
    "\n",
    "When running the following cell, if asked to \"select your kernel\" (note this will be referring to the Jupyter notebook's kernel and not Semantic Kernel) then choose `.NET Interactive` from the available menu options."
   ]
  },
  {
   "cell_type": "code",
   "execution_count": null,
   "metadata": {
    "dotnet_interactive": {
     "language": "csharp"
    },
    "polyglot_notebook": {
     "kernelName": "csharp"
    },
    "vscode": {
     "languageId": "polyglot-notebook"
    }
   },
   "outputs": [],
   "source": [
    "// Load some helper functions, e.g. to load values from settings.json\n",
    "#!import ../config/Settings.cs \n",
    "\n",
    "#r \"nuget: Microsoft.SemanticKernel, 1.0.0-beta3\"\n",
    "#r \"nuget: System.Linq.Async, 6.0.1\""
   ]
  },
  {
   "cell_type": "markdown",
   "metadata": {},
   "source": [
    "# Fire up a kernel with TWO models 🔥"
   ]
  },
  {
   "cell_type": "code",
   "execution_count": null,
   "metadata": {
    "dotnet_interactive": {
     "language": "csharp"
    },
    "polyglot_notebook": {
     "kernelName": "csharp"
    },
    "vscode": {
     "languageId": "polyglot-notebook"
    }
   },
   "outputs": [],
   "source": [
    "using Microsoft.SemanticKernel;\n",
    "using Microsoft.SemanticKernel.Orchestration;\n",
    "using Microsoft.SemanticKernel.Plugins.Memory;\n",
    "using Microsoft.SemanticKernel.Connectors.AI.OpenAI;\n",
    "\n",
    "var (useAzureOpenAI, model, azureEndpoint, apiKey, orgId) = Settings.LoadFromFile();\n",
    "\n",
    "var memoryBuilder = new MemoryBuilder();\n",
    "var kernelBuilder = new KernelBuilder();\n",
    "\n",
    "// gpt-3.5-turbo is used by default\n",
    "model = \"gpt-4\";\n",
    "\n",
    "Console.WriteLine($\"Using 🧱 Model: {model}\");\n",
    "\n",
    "if (useAzureOpenAI)\n",
    "{\n",
    "    memoryBuilder.WithAzureTextEmbeddingGenerationService(\"text-embedding-ada-002\", azureEndpoint, apiKey);\n",
    "    kernelBuilder.WithAzureChatCompletionService(model, azureEndpoint, apiKey);\n",
    "}\n",
    "else\n",
    "{\n",
    "    memoryBuilder.WithOpenAITextEmbeddingGenerationService(\"text-embedding-ada-002\", apiKey);\n",
    "    kernelBuilder.WithOpenAIChatCompletionService(model, apiKey, orgId);\n",
    "}\n",
    "\n",
    "memoryBuilder.WithMemoryStore(new VolatileMemoryStore());\n",
    "\n",
    "var kernel = kernelBuilder.Build();\n",
    "var memory = memoryBuilder.Build();"
   ]
  },
  {
   "cell_type": "markdown",
   "metadata": {},
   "source": [
    "## A 👁️ multi-modal model might be fun to add to the mix\n",
    "\n",
    "Let's use a photo by <a href=\"https://unsplash.com/@nicotitto?utm_content=creditCopyText&utm_medium=referral&utm_source=unsplash\">nrd</a> on <a href=\"https://unsplash.com/photos/bunch-of-vegetables-D6Tu_L3chLE?utm_content=creditCopyText&utm_medium=referral&utm_source=unsplash\">Unsplash</a> and ask GPT-4V what's in the image.\n",
    "\n",
    "![](grocerystore_nicottito.png)\n",
    "\n",
    "General access to GPT-4V isn't available by API yet, so we're just simulating it here."
   ]
  },
  {
   "cell_type": "code",
   "execution_count": null,
   "metadata": {
    "dotnet_interactive": {
     "language": "csharp"
    },
    "polyglot_notebook": {
     "kernelName": "csharp"
    },
    "vscode": {
     "languageId": "polyglot-notebook"
    }
   },
   "outputs": [],
   "source": [
    "var vizResult = @\"\n",
    "The grocery store has only the following produce available:\n",
    "\n",
    "* Lettuce\n",
    "* Green zucchinis\n",
    "* Yellow squash\n",
    "* Cucumbers\n",
    "* A variety of bell peppers \n",
    "* Cabbages\n",
    "* Broccoli\n",
    "* Brussels sprouts\n",
    "* Parsley\n",
    "\";"
   ]
  },
  {
   "cell_type": "markdown",
   "metadata": {},
   "source": [
    "# Generate embeddings for later 🧲 gathering"
   ]
  },
  {
   "cell_type": "code",
   "execution_count": null,
   "metadata": {
    "dotnet_interactive": {
     "language": "csharp"
    },
    "polyglot_notebook": {
     "kernelName": "csharp"
    },
    "vscode": {
     "languageId": "polyglot-notebook"
    }
   },
   "outputs": [],
   "source": [
    "const string MemoryCollectionName = \"preferences\";\n",
    "\n",
    "string[] notes = { \n",
    "    \"for breakfast, meals with eggs are preferred and low salt\",\n",
    "    \"for lunch, a meal with less than 300 calories is best\",\n",
    "    \"for dinner, definitely offer dessert\"\n",
    "};\n",
    "\n",
    "for (int i = 0; i < notes.Length; i++)\n",
    "{\n",
    "    await memory.SaveInformationAsync(MemoryCollectionName, id: $\"note{i}\", text: notes[i]);\n",
    "}"
   ]
  },
  {
   "cell_type": "markdown",
   "metadata": {},
   "source": [
    "# You can always 🤔 look up what your visitor prefers"
   ]
  },
  {
   "cell_type": "code",
   "execution_count": null,
   "metadata": {
    "dotnet_interactive": {
     "language": "csharp"
    },
    "polyglot_notebook": {
     "kernelName": "csharp"
    },
    "vscode": {
     "languageId": "polyglot-notebook"
    }
   },
   "outputs": [],
   "source": [
    "var q = \"breakfast\";\n",
    "var response = await memory.SearchAsync(MemoryCollectionName, q).FirstOrDefaultAsync();\n",
    "var mealPreference = response?.Metadata.Text;\n",
    "Console.WriteLine($\"{q}\\n> {mealPreference}\");"
   ]
  },
  {
   "cell_type": "markdown",
   "metadata": {},
   "source": [
    "## Now we have enough information to get 🧑‍🍳 cooking\n",
    "\n",
    "Let's add the inventory of what's in my fridge (that we could get from a 🔌 Plugin) to what we know about our world. And let's use the image snapshot of what we can get at our local grocer."
   ]
  },
  {
   "cell_type": "code",
   "execution_count": null,
   "metadata": {
    "dotnet_interactive": {
     "language": "csharp"
    },
    "polyglot_notebook": {
     "kernelName": "csharp"
    },
    "vscode": {
     "languageId": "polyglot-notebook"
    }
   },
   "outputs": [],
   "source": [
    "var inMyFridgeAndPantry = @\"\n",
    "milk, eggs, butter, chicken, cheese, yogurt, salt, pepper, sugar, olive oil, flour\n",
    "\";\n",
    "\n",
    "Console.WriteLine($\"Meal preference: {mealPreference}\");\n",
    "Console.WriteLine($\"In my fridge and pantry:\\n{inMyFridgeAndPantry}\");\n",
    "Console.WriteLine($\"Available at my grocer: {vizResult}\");"
   ]
  },
  {
   "cell_type": "markdown",
   "metadata": {},
   "source": [
    "## Let's 🤔 determine what to make ..."
   ]
  },
  {
   "cell_type": "code",
   "execution_count": null,
   "metadata": {
    "dotnet_interactive": {
     "language": "csharp"
    },
    "polyglot_notebook": {
     "kernelName": "csharp"
    },
    "vscode": {
     "languageId": "polyglot-notebook"
    }
   },
   "outputs": [],
   "source": [
    "using Microsoft.SemanticKernel.Orchestration;\n",
    "\n",
    "var pluginsSKDirectory = \"plugins-sk\";\n",
    "\n",
    "var myFunctions = kernel.ImportSemanticFunctionsFromDirectory(pluginsSKDirectory, \"CookingForReal\");\n",
    "\n",
    "var myContext = new ContextVariables(); \n",
    "\n",
    "myContext.Set(\"grocer\", vizResult); \n",
    "myContext.Set(\"available\", inMyFridgeAndPantry);\n",
    "myContext.Set(\"mealtype\", mealPreference); \n",
    "\n",
    "var myResult = await kernel.RunAsync(myContext,myFunctions[\"MealSuggester\"]);\n",
    "var mealString = myResult.GetValue<string>();\n",
    "\n",
    "Console.WriteLine(mealString);"
   ]
  },
  {
   "cell_type": "markdown",
   "metadata": {},
   "source": [
    "## Let's go 🛒 shopping "
   ]
  },
  {
   "cell_type": "code",
   "execution_count": null,
   "metadata": {
    "dotnet_interactive": {
     "language": "csharp"
    },
    "polyglot_notebook": {
     "kernelName": "csharp"
    },
    "vscode": {
     "languageId": "polyglot-notebook"
    }
   },
   "outputs": [],
   "source": [
    "using Microsoft.SemanticKernel.Orchestration;\n",
    "\n",
    "var pluginsSKDirectory = \"plugins-sk\";\n",
    "\n",
    "var myFunctions = kernel.ImportSemanticFunctionsFromDirectory(pluginsSKDirectory, \"CookingForReal\");\n",
    "\n",
    "var myContext = new ContextVariables(); \n",
    "\n",
    "myContext.Set(\"grocer\", vizResult); \n",
    "myContext.Set(\"available\", inMyFridgeAndPantry);\n",
    "myContext.Set(\"themeal\", mealString); \n",
    "\n",
    "var myResult = await kernel.RunAsync(myContext,myFunctions[\"ShoppingSuggester\"]);\n",
    "var resultString = myResult.GetValue<string>();\n",
    "\n",
    "Console.WriteLine(resultString);"
   ]
  },
  {
   "cell_type": "markdown",
   "metadata": {},
   "source": [
    "# Plate the partially finished meal 🍽️"
   ]
  },
  {
   "cell_type": "markdown",
   "metadata": {},
   "source": [
    "Let's ready an image generation model ..."
   ]
  },
  {
   "cell_type": "code",
   "execution_count": null,
   "metadata": {
    "dotnet_interactive": {
     "language": "csharp"
    },
    "polyglot_notebook": {
     "kernelName": "csharp"
    },
    "vscode": {
     "languageId": "polyglot-notebook"
    }
   },
   "outputs": [],
   "source": [
    "#r \"nuget: SkiaSharp, 2.88.3\"\n",
    "\n",
    "using Microsoft.SemanticKernel;\n",
    "using Microsoft.SemanticKernel.AI.ImageGeneration; \n",
    "using Microsoft.SemanticKernel.AI.Embeddings;\n",
    "using Microsoft.SemanticKernel.AI.Embeddings.VectorOperations;\n",
    "using Microsoft.SemanticKernel.Connectors.AI.OpenAI;\n",
    "\n",
    "// Load OpenAI credentials from config/settings.json\n",
    "var (useAzureOpenAI, model, azureEndpoint, apiKey, orgId) = Settings.LoadFromFile();\n",
    "\n",
    "// Configure the three AI features: text embedding (using Ada), text completion (using DaVinci 3), image generation (DALL-E 2)\n",
    "var builder = new KernelBuilder();\n",
    "\n",
    "if(useAzureOpenAI)\n",
    "{\n",
    "    builder.WithAzureOpenAIImageGenerationService(azureEndpoint, apiKey);\n",
    "}\n",
    "else\n",
    "{\n",
    "    builder.WithOpenAIImageGenerationService(apiKey, orgId);\n",
    "}\n",
    "   \n",
    "var kernel = builder.Build();\n",
    "\n",
    "// Get AI service instance used to generate images\n",
    "var dallE = kernel.GetService<IImageGeneration>();"
   ]
  },
  {
   "cell_type": "markdown",
   "metadata": {},
   "source": [
    "And let's render that meal we were talking about ..."
   ]
  },
  {
   "cell_type": "code",
   "execution_count": null,
   "metadata": {
    "dotnet_interactive": {
     "language": "csharp"
    },
    "polyglot_notebook": {
     "kernelName": "csharp"
    },
    "vscode": {
     "languageId": "polyglot-notebook"
    }
   },
   "outputs": [],
   "source": [
    "#!import ../config/SkiaUtils.cs\n",
    "\n",
    "using System;\n",
    "using System.Threading.Tasks;\n",
    "using Microsoft.Extensions.Configuration;\n",
    "using Microsoft.SemanticKernel.Connectors.AI.OpenAI;\n",
    "using System.IO;\n",
    "using System.Net.Http;\n",
    "\n",
    "HttpClient httpClient = new HttpClient();\n",
    "\n",
    "async Task DownloadImageAsync(string uri, string localPath)\n",
    "{\n",
    "    using (HttpResponseMessage response = await httpClient.GetAsync(uri))\n",
    "    {\n",
    "        response.EnsureSuccessStatusCode();\n",
    "\n",
    "        using (Stream contentStream = await response.Content.ReadAsStreamAsync(), \n",
    "                fileStream = new FileStream(localPath, FileMode.Create, FileAccess.Write, FileShare.None))\n",
    "        {\n",
    "            await contentStream.CopyToAsync(fileStream);\n",
    "        }\n",
    "    }\n",
    "}\n",
    "\n",
    "Console.WriteLine(mealString);\n",
    "\n",
    "var imageDescription = mealString;\n",
    "var image = await dallE.GenerateImageAsync(imageDescription, 256, 256);\n",
    "\n",
    "Console.WriteLine(imageDescription);\n",
    "Console.WriteLine(\"Image URL: \" + image);\n",
    "string uniqueFileName = \"abc-\" + Guid.NewGuid().ToString() + \".png\";\n",
    "Console.WriteLine(uniqueFileName);\n",
    "await DownloadImageAsync(image,uniqueFileName);"
   ]
  },
  {
   "cell_type": "markdown",
   "metadata": {},
   "source": [
    "You can look at it inline too:"
   ]
  },
  {
   "cell_type": "code",
   "execution_count": null,
   "metadata": {
    "dotnet_interactive": {
     "language": "csharp"
    },
    "polyglot_notebook": {
     "kernelName": "csharp"
    },
    "vscode": {
     "languageId": "polyglot-notebook"
    }
   },
   "outputs": [],
   "source": [
    "await SkiaUtils.ShowImage(image, 256, 256);"
   ]
  }
 ],
 "metadata": {
  "language_info": {
   "name": "python"
  },
  "orig_nbformat": 4
 },
 "nbformat": 4,
 "nbformat_minor": 2
}
