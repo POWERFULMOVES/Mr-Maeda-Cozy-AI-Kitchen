{
 "cells": [
  {
   "cell_type": "markdown",
   "metadata": {},
   "source": [
    "# Ben Sheppard: McKinsey's Design Leadership Expert\n",
    "\n",
    "### \"Do we become authentic but simple apes in the face of AI overlords? Perhaps we APES will still have authentic leadership qualities that even the best AI will struggle to match for a while.\" —via [LinkedIn](https://www.linkedin.com/posts/benedictsheppard_generativeai-ai-leadership-activity-7054828376380821504-2wSM?utm_source=share&utm_medium=member_desktop)\n",
    "\n",
    "- **Accountability** - Leaders who embrace AI input, but personally shoulder responsibility for decisions, will be more respected than those who blame technology.\n",
    "- **Presence** - Leaders who disconnect from devices, truly engage with others, and listen intently will foster greater openness and empathy.\n",
    "- **Emotion** - Leaders who openly express their emotions will cultivate a familial atmosphere where others feel comfortable being honest and vulnerable.\n",
    "- **Sparkle** - Leaders who lead companies based on their authentic personal passions and imperfect human obsessions, whether than be cars or make-up, games or food, will inspire and energise those around them\n",
    "\n",
    "### With Ben, we look at the basics of AI *completion* models and how they work at the code level in the context of a fundamental concept in Design Thinking to consciously be customer-centric."
   ]
  },
  {
   "cell_type": "markdown",
   "metadata": {},
   "source": [
    "Instructions for getting cozy with this AI recipe are on the [GitHub page's README](https://aka.ms/CAIK-repo). "
   ]
  },
  {
   "cell_type": "markdown",
   "metadata": {},
   "source": [
    "# 🧑‍🍳 Recipe for AI-driven Design Thinking\n",
    "\n",
    "- ~300 tokens from Pre-trained Foundation Model\n",
    "- 1 list of assorted customer feedback\n",
    "- 1 ready-made \"Design Thinking\" PLUGIN\n",
    " \n",
    "Place customer feedback into an AI pipeline, like with Semantic Kernel. Feed the feedback into a PLUGIN through the automatic templating within the kernel. \n",
    "\n",
    "Using the default settings of the PLUGIN, and drawing upon ~300 tokens ... wait for the result to come out of the kernel. \n",
    "\n",
    "Taste for quality, and then plate appropriately."
   ]
  },
  {
   "cell_type": "markdown",
   "metadata": {},
   "source": [
    "> [!IMPORTANT]\n",
    "> You will need an [.Net 7 SDK](https://dotnet.microsoft.com/en-us/download) and [Polyglot](https://marketplace.visualstudio.com/items?itemName=ms-dotnettools.dotnet-interactive-vscode) to get started with this notebook using .Net Interactive"
   ]
  },
  {
   "cell_type": "markdown",
   "metadata": {},
   "source": [
    "# Gather the core tools 🧰\n",
    "\n",
    "When running the following cell, if asked to \"select your kernel\" (note this will be referring to the Jupyter notebook's kernel and not Semantic Kernel) then choose `.NET Interactive` from the available menu options."
   ]
  },
  {
   "cell_type": "code",
   "execution_count": null,
   "metadata": {
    "dotnet_interactive": {
     "language": "csharp"
    },
    "polyglot_notebook": {
     "kernelName": "csharp"
    },
    "vscode": {
     "languageId": "polyglot-notebook"
    }
   },
   "outputs": [],
   "source": [
    "// Load some helper functions, e.g. to load values from settings.json\n",
    "#!import ../config/Settings.cs \n",
    "#r \"nuget: Microsoft.SemanticKernel, 0.20.230821.4-preview\""
   ]
  },
  {
   "cell_type": "markdown",
   "metadata": {},
   "source": [
    "# Fire up a kernel 🔥"
   ]
  },
  {
   "cell_type": "code",
   "execution_count": null,
   "metadata": {
    "dotnet_interactive": {
     "language": "csharp"
    },
    "polyglot_notebook": {
     "kernelName": "csharp"
    },
    "vscode": {
     "languageId": "polyglot-notebook"
    }
   },
   "outputs": [],
   "source": [
    "using Microsoft.SemanticKernel;\n",
    "using System;\n",
    "using System.Threading.Tasks;\n",
    "\n",
    "var builder = new KernelBuilder();\n",
    "\n",
    "var (useAzureOpenAI, model, azureEndpoint, apiKey, orgId) = Settings.LoadFromFile();\n",
    "\n",
    "// model = \"gpt-4\";\n",
    "\n",
    "Console.WriteLine($\"Using 🧱 Model: {model}\");\n",
    "\n",
    "if (useAzureOpenAI)\n",
    "    builder.WithAzureChatCompletionService(model, azureEndpoint, apiKey);\n",
    "else\n",
    "    builder.WithOpenAIChatCompletionService(model, apiKey, orgId);\n",
    "\n",
    "IKernel kernel = builder.Build();"
   ]
  },
  {
   "cell_type": "markdown",
   "metadata": {},
   "source": [
    "# Use one of the 🔌 PLUGINs with 📄 input of your choice"
   ]
  },
  {
   "cell_type": "code",
   "execution_count": null,
   "metadata": {
    "dotnet_interactive": {
     "language": "csharp"
    },
    "polyglot_notebook": {
     "kernelName": "csharp"
    },
    "vscode": {
     "languageId": "polyglot-notebook"
    }
   },
   "outputs": [],
   "source": [
    "TimeSpan startTime = TimeSpan.FromTicks(DateTime.Now.Ticks);\n",
    "\n",
    "// Load the Skills Directory\n",
    "var pluginsSKDirectory = \"plugins-sk\";\n",
    "\n",
    "// Load the FunSkill from the Skills Directory\n",
    "var dtFunctions = kernel.ImportSemanticSkillFromDirectory(pluginsSKDirectory, \"DesignThinking\");\n",
    "\n",
    "// Run the Function called Joke\n",
    "var result = await dtFunctions[\"EmpathizeTable\"].InvokeAsync(\n",
    "@\"\n",
    "1. Radio won't turn on\n",
    "2. Sputters due to static\n",
    "3. Nice customers support people\n",
    "4. No one knows how to fix it\n",
    "5. Doesn't know what time it is\n",
    "6. Grew up on a house boat\");\n",
    "\n",
    "TimeSpan endTime = TimeSpan.FromTicks(DateTime.Now.Ticks);\n",
    "TimeSpan elapsed = endTime - startTime;\n",
    "\n",
    "// Return the result to the Notebook\n",
    "Console.WriteLine(result);"
   ]
  },
  {
   "cell_type": "markdown",
   "metadata": {},
   "source": [
    "# Plate the finished meal 🍽️"
   ]
  },
  {
   "cell_type": "code",
   "execution_count": null,
   "metadata": {
    "dotnet_interactive": {
     "language": "csharp"
    },
    "polyglot_notebook": {
     "kernelName": "csharp"
    },
    "vscode": {
     "languageId": "polyglot-notebook"
    }
   },
   "outputs": [],
   "source": [
    "using Microsoft.AspNetCore.Html;\n",
    "using Markdig;\n",
    "\n",
    "var myPipeline = new MarkdownPipelineBuilder().UseAdvancedExtensions().Build();\n",
    "var myResult2HTML = Markdown.ToHtml(\"# How are customers feeling?\\n\" + result.ToString(), myPipeline);\n",
    "var myHTMLContent = new HtmlContentBuilder();\n",
    "\n",
    "myHTMLContent.AppendHtml(myResult2HTML);\n",
    "myHTMLContent"
   ]
  },
  {
   "cell_type": "markdown",
   "metadata": {},
   "source": [
    "# Check out the science of your cooking 📐"
   ]
  },
  {
   "cell_type": "code",
   "execution_count": null,
   "metadata": {
    "dotnet_interactive": {
     "language": "csharp"
    },
    "polyglot_notebook": {
     "kernelName": "csharp"
    },
    "vscode": {
     "languageId": "polyglot-notebook"
    }
   },
   "outputs": [],
   "source": [
    "using System.Text.Json;\n",
    "\n",
    "var usageresult = result.ModelResults.Select(result => result.GetOpenAIChatResult()?.Usage);\n",
    "var injson = JsonSerializer.Serialize(usageresult, new JsonSerializerOptions { WriteIndented = true });\n",
    "Console.WriteLine($\"🧱 The MODEL used:\\n\\n> {model}\\n\");\n",
    "Console.WriteLine($\"💸 How many TOKENS were used?\\n\\n{injson}\\n\");\n",
    "Console.WriteLine($\"⏰ How much TIME did it take?\\n\\n> {elapsed.TotalMilliseconds} ms\\n\");\n",
    "String functionName = \"EmpathizeTable\";\n",
    "Console.WriteLine($\"🌡️ What TEMPERATURE setting was used?\\n\\n> {dtFunctions[functionName].RequestSettings.Temperature} (0 is 🥶 ; 1 is 🥵)\\n\");\n",
    "Console.WriteLine($\"🙊 What TOP P setting was used?\\n\\n> {dtFunctions[functionName].RequestSettings.TopP} (0 is 😑 ; 1 is 🤯)\");"
   ]
  },
  {
   "cell_type": "markdown",
   "metadata": {},
   "source": [
    "# Let's do a little more cooking ⚗️\n",
    "\n",
    "![](../assets/designthinking.png)"
   ]
  },
  {
   "cell_type": "code",
   "execution_count": null,
   "metadata": {
    "dotnet_interactive": {
     "language": "csharp"
    },
    "polyglot_notebook": {
     "kernelName": "csharp"
    },
    "vscode": {
     "languageId": "polyglot-notebook"
    }
   },
   "outputs": [],
   "source": [
    "var input = @\"\n",
    "Customer 1: The power button on my phone is broken. The warranty is still valid.\n",
    "Customer 2: My display stopped working.\n",
    "Customer 3: The customer service rep didn't answer my email.\n",
    "Customer 4: Every time I call customer support I get no answer.\n",
    "Customer 5: The display screen cracked and it's still under warranty.\n",
    "Customer 6: My power button fell off the phone. That's ridiculous.\n",
    "Customer 7: I'm so frustrated with this company.\n",
    "Customer 8: When I use the power button too much, it stops working.\n",
    "\";\n",
    "\n",
    "var myResult = await kernel.RunAsync(input, dtFunctions[\"Empathize\"], dtFunctions[\"Define\"]);\n",
    "\n",
    "var myPipeline = new MarkdownPipelineBuilder().UseAdvancedExtensions().Build();\n",
    "var myResult2HTML = Markdown.ToHtml(\"# Result\\n\" + myResult.ToString(), myPipeline);\n",
    "var myHTMLContent = new HtmlContentBuilder();\n",
    "\n",
    "myHTMLContent.AppendHtml(myResult2HTML);\n",
    "myHTMLContent"
   ]
  },
  {
   "cell_type": "code",
   "execution_count": null,
   "metadata": {
    "dotnet_interactive": {
     "language": "csharp"
    },
    "polyglot_notebook": {
     "kernelName": "csharp"
    },
    "vscode": {
     "languageId": "polyglot-notebook"
    }
   },
   "outputs": [],
   "source": [
    "Console.WriteLine($\"🧱 The MODEL used:\\n\\n> {model}\\n\");"
   ]
  }
 ],
 "metadata": {
  "language_info": {
   "name": "python"
  },
  "orig_nbformat": 4
 },
 "nbformat": 4,
 "nbformat_minor": 2
}
