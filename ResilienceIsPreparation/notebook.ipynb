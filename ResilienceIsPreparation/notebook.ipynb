{
 "cells": [
  {
   "cell_type": "markdown",
   "metadata": {},
   "source": [
    "# Tracy Reinhold: Global Security and Resilience Authority\n",
    "\n",
    "### \"You can get ahead of threats by being informed and having the technological capabilities to actually take action on that intelligence once you’ve acquired it. So if you’re consistently in a reactive mode, you will eventually fail. By proactively reducing risk and vulnerability, we can create an environment that allows a company to be successful.\" —via [Security Magazine](https://www.securitymagazine.com/articles/96603-5-minutes-with-tracy-reinhold-critical-event-management-for-enterprise-resilience)\n",
    "\n",
    "### We consider the arc of a critical event and the way Tracy considers the future of predictive approaches with AI.\n",
    "\n",
    "| Before the 💥 Boom | During the 💥 Boom | After the 💥 Boom |\n",
    "|---|---|---|\n",
    "\n",
    "Note that there are three phases to a critical event: before, during, and after. The critical event is often referred to as \"💥 boom\" or \"💥 bang.\""
   ]
  },
  {
   "cell_type": "markdown",
   "metadata": {},
   "source": [
    "Instructions for getting cozy with this AI recipe are on the [GitHub page's README](https://aka.ms/CAIK-repo). "
   ]
  },
  {
   "cell_type": "markdown",
   "metadata": {},
   "source": [
    "# 🧑‍🍳 Recipe for AI-driven Operational Resilience\n",
    "\n",
    "- ~500 tokens from COMPLETION Pre-trained Foundation Model\n",
    "- ~1000 tokens from EMBEDDING Pre-trained Foundation Model\n",
    " \n",
    "First, register a variety of pieces of data into the memory store with the EMBEDDING model's help.\n",
    "\n",
    "Then we look for any patterns that could be troubling.\n",
    "\n",
    "Take all those patterns and generate a quick report."
   ]
  },
  {
   "cell_type": "markdown",
   "metadata": {},
   "source": [
    "> [!IMPORTANT]\n",
    "> You will need an [.Net 7 SDK](https://dotnet.microsoft.com/en-us/download) and [Polyglot](https://marketplace.visualstudio.com/items?itemName=ms-dotnettools.dotnet-interactive-vscode) to get started with this notebook using .Net Interactive"
   ]
  },
  {
   "cell_type": "markdown",
   "metadata": {},
   "source": [
    "# Gather the core tools 🧰\n",
    "\n",
    "When running the following cell, if asked to \"select your kernel\" (note this will be referring to the Jupyter notebook's kernel and not Semantic Kernel) then choose `.NET Interactive` from the available menu options."
   ]
  },
  {
   "cell_type": "code",
   "execution_count": null,
   "metadata": {
    "dotnet_interactive": {
     "language": "csharp"
    },
    "polyglot_notebook": {
     "kernelName": "csharp"
    },
    "vscode": {
     "languageId": "polyglot-notebook"
    }
   },
   "outputs": [],
   "source": [
    "// Load some helper functions, e.g. to load values from settings.json\n",
    "#!import ../config/Settings.cs \n",
    "\n",
    "#r \"nuget: Microsoft.SemanticKernel, 1.0.0-beta3\"\n",
    "#r \"nuget: System.Linq.Async, 6.0.1\""
   ]
  },
  {
   "cell_type": "markdown",
   "metadata": {},
   "source": [
    "# Fire up a kernel with TWO models 🔥"
   ]
  },
  {
   "cell_type": "code",
   "execution_count": null,
   "metadata": {
    "dotnet_interactive": {
     "language": "csharp"
    },
    "polyglot_notebook": {
     "kernelName": "csharp"
    },
    "vscode": {
     "languageId": "polyglot-notebook"
    }
   },
   "outputs": [],
   "source": [
    "using Microsoft.SemanticKernel;\n",
    "using Microsoft.SemanticKernel.Orchestration;\n",
    "using Microsoft.SemanticKernel.Plugins.Memory;\n",
    "using Microsoft.SemanticKernel.Connectors.AI.OpenAI;\n",
    "\n",
    "var (useAzureOpenAI, model, azureEndpoint, apiKey, orgId) = Settings.LoadFromFile();\n",
    "\n",
    "var memoryBuilder = new MemoryBuilder();\n",
    "var kernelBuilder = new KernelBuilder();\n",
    "\n",
    "// gpt-3.5-turbo is used by default\n",
    "model = \"gpt-4\";\n",
    "\n",
    "Console.WriteLine($\"Using 🧱 Model: {model}\");\n",
    "\n",
    "if (useAzureOpenAI)\n",
    "{\n",
    "    memoryBuilder.WithAzureTextEmbeddingGenerationService(\"text-embedding-ada-002\", azureEndpoint, apiKey);\n",
    "    kernelBuilder.WithAzureChatCompletionService(model, azureEndpoint, apiKey);\n",
    "}\n",
    "else\n",
    "{\n",
    "    memoryBuilder.WithOpenAITextEmbeddingGenerationService(\"text-embedding-ada-002\", apiKey);\n",
    "    kernelBuilder.WithOpenAIChatCompletionService(model, apiKey, orgId);\n",
    "}\n",
    "\n",
    "memoryBuilder.WithMemoryStore(new VolatileMemoryStore());\n",
    "\n",
    "var kernel = kernelBuilder.Build();\n",
    "var memory = memoryBuilder.Build();"
   ]
  },
  {
   "cell_type": "markdown",
   "metadata": {},
   "source": [
    "# Generate embeddings for later 🧲 gathering"
   ]
  },
  {
   "cell_type": "code",
   "execution_count": null,
   "metadata": {
    "dotnet_interactive": {
     "language": "csharp"
    },
    "polyglot_notebook": {
     "kernelName": "csharp"
    },
    "vscode": {
     "languageId": "polyglot-notebook"
    }
   },
   "outputs": [],
   "source": [
    "const string MemoryCollectionName = \"events\";\n",
    "\n",
    "string[] reports = { \n",
    "    \"7:00am GMT: all stores report normal activity.\",\n",
    "    \"7:30am GMT: an email arrived in VP <name redacted> inbox that was threatening and abusive.\",\n",
    "    \"8:30am GMT: retail operations in London report normal opening activity.\",\n",
    "    \"8:00am GMT: customer support loads are normal.\",\n",
    "    \"9:00am GMT: a noisy protest is reported outside the London store.\",\n",
    "    \"9:30am GMT: retail operations in New York report a theft has occurred.\",\n",
    "    \"10:00am GMT: retail operations in Los Angeles report normal closing activity.\",\n",
    "    \"10:30am GMT: retail operations in Las Vegas reports flooding has shut down the store.\",\n",
    "    \"11:00am GMT: retail operations in London report a theft has occured.\",\n",
    "    \"11:30am GMT: security detail for VP <name redacted> reports a suspicious package has been found in the mail room.\"\n",
    "};\n",
    "\n",
    "for (int i = 0; i < reports.Length; i++)\n",
    "{\n",
    "    await memory.SaveInformationAsync(MemoryCollectionName, id: $\"ev{i}\", text: reports[i]);\n",
    "}\n"
   ]
  },
  {
   "cell_type": "markdown",
   "metadata": {},
   "source": [
    "# Experiment 🧪 with what you think is relevant and important "
   ]
  },
  {
   "cell_type": "markdown",
   "metadata": {},
   "source": [
    "Let's just find a few needles a potential haystack."
   ]
  },
  {
   "cell_type": "code",
   "execution_count": null,
   "metadata": {
    "dotnet_interactive": {
     "language": "csharp"
    },
    "polyglot_notebook": {
     "kernelName": "csharp"
    },
    "vscode": {
     "languageId": "polyglot-notebook"
    }
   },
   "outputs": [],
   "source": [
    "var questions = new[]\n",
    "{\n",
    "    \"something bad\",\n",
    "    \"all things okay\",\n",
    "};\n",
    "\n",
    "foreach (var q in questions)\n",
    "{\n",
    "    var response = await memory.SearchAsync(MemoryCollectionName, q).FirstOrDefaultAsync();\n",
    "    Console.WriteLine($\"{q}\\n> {response?.Metadata.Text}\");\n",
    "}"
   ]
  },
  {
   "cell_type": "markdown",
   "metadata": {},
   "source": [
    "Let's instead try to cast a wider net for a query."
   ]
  },
  {
   "cell_type": "code",
   "execution_count": null,
   "metadata": {
    "dotnet_interactive": {
     "language": "csharp"
    },
    "polyglot_notebook": {
     "kernelName": "csharp"
    },
    "vscode": {
     "languageId": "polyglot-notebook"
    }
   },
   "outputs": [],
   "source": [
    "using Microsoft.SemanticKernel.Memory;\n",
    "\n",
    "var query = \"all the bad things\";\n",
    "var myResults = \"\";\n",
    "\n",
    "var memoryResults = memory.SearchAsync(MemoryCollectionName, query, limit: 5, minRelevanceScore: 0.5);\n",
    "\n",
    "int i = 0;\n",
    "await foreach (MemoryQueryResult memoryResult in memoryResults)\n",
    "{\n",
    "    Console.WriteLine($\"Result {++i}:\");\n",
    "    Console.WriteLine(\"  Text: \" + memoryResult.Metadata.Text);\n",
    "    Console.WriteLine(\"  Relevance: \" + memoryResult.Relevance);\n",
    "\n",
    "    if (memoryResult.Relevance > 0.7) {\n",
    "        myResults += memoryResult.Metadata.Text + \"\\n\";\n",
    "    }\n",
    "    \n",
    "    Console.WriteLine();\n",
    "}"
   ]
  },
  {
   "cell_type": "code",
   "execution_count": null,
   "metadata": {
    "dotnet_interactive": {
     "language": "csharp"
    },
    "polyglot_notebook": {
     "kernelName": "csharp"
    },
    "vscode": {
     "languageId": "polyglot-notebook"
    }
   },
   "outputs": [],
   "source": [
    "Console.WriteLine(myResults);"
   ]
  },
  {
   "cell_type": "markdown",
   "metadata": {},
   "source": [
    "## 🔌 We'll use a few readily available Plugins"
   ]
  },
  {
   "cell_type": "code",
   "execution_count": null,
   "metadata": {
    "dotnet_interactive": {
     "language": "csharp"
    },
    "polyglot_notebook": {
     "kernelName": "csharp"
    },
    "vscode": {
     "languageId": "polyglot-notebook"
    }
   },
   "outputs": [],
   "source": [
    "TimeSpan startTime = TimeSpan.FromTicks(DateTime.Now.Ticks);\n",
    "\n",
    "// Load Design Thinking Plugin\n",
    "var pluginsSKDirectory = \"plugins-sk\";\n",
    "var secFunctions = kernel.ImportSemanticFunctionsFromDirectory(pluginsSKDirectory, \"SecurityKit\");\n",
    "\n",
    "// Run the Function EmpathizeTable\n",
    "//var result = await kernel.RunAsync( myResults, secFunctions[\"SuggestNextSteps\"] );\n",
    "var result = await kernel.RunAsync( myResults, secFunctions[\"SitRepPlain\"] );\n",
    "\n",
    "TimeSpan endTime = TimeSpan.FromTicks(DateTime.Now.Ticks);\n",
    "TimeSpan elapsed = endTime - startTime;\n",
    "\n",
    "// Return the result to the Notebook\n",
    "var resultString = result.GetValue<string>();\n",
    "\n",
    "Console.WriteLine(resultString);"
   ]
  },
  {
   "cell_type": "markdown",
   "metadata": {},
   "source": [
    "# Plate the partially finished meal 🍽️"
   ]
  },
  {
   "cell_type": "code",
   "execution_count": null,
   "metadata": {
    "dotnet_interactive": {
     "language": "csharp"
    },
    "polyglot_notebook": {
     "kernelName": "csharp"
    },
    "vscode": {
     "languageId": "polyglot-notebook"
    }
   },
   "outputs": [],
   "source": [
    "using Microsoft.AspNetCore.Html;\n",
    "using Markdig;\n",
    "\n",
    "var myPipeline = new MarkdownPipelineBuilder().UseAdvancedExtensions().Build();\n",
    "var myResult2HTML = Markdown.ToHtml(resultString, myPipeline);\n",
    "var myHTMLContent = new HtmlContentBuilder();\n",
    "\n",
    "myHTMLContent.AppendHtml(myResult2HTML);\n",
    "myHTMLContent"
   ]
  },
  {
   "cell_type": "markdown",
   "metadata": {},
   "source": [
    "# Let's look at the science 📐"
   ]
  },
  {
   "cell_type": "code",
   "execution_count": null,
   "metadata": {
    "dotnet_interactive": {
     "language": "csharp"
    },
    "polyglot_notebook": {
     "kernelName": "csharp"
    },
    "vscode": {
     "languageId": "polyglot-notebook"
    }
   },
   "outputs": [],
   "source": [
    "using System.Text.Json;\n",
    "using Microsoft.SemanticKernel;\n",
    "using Microsoft.SemanticKernel.AI;\n",
    "\n",
    "var usageresult = result.FunctionResults.SelectMany(l => l.GetModelResults() ?? Enumerable.Empty<ModelResult>()).LastOrDefault()?.GetOpenAIChatResult()?.Usage;\n",
    "var injson = JsonSerializer.Serialize(usageresult, new JsonSerializerOptions { WriteIndented = true });\n",
    "Console.WriteLine($\"🧱 The MODEL used:\\n\\n> {model}\\n\");\n",
    "Console.WriteLine($\"💸 How many TOKENS were used?\\n\\n{injson}\\n\");\n",
    "String functionName = \"SitRepPlain\";\n",
    "\n",
    "var reqjson = JsonSerializer.Serialize(secFunctions[functionName].RequestSettings, new JsonSerializerOptions { WriteIndented = true });\n",
    "var doc = JsonDocument.Parse(reqjson);\n",
    "double temperatureValue = doc.RootElement.GetProperty(\"temperature\").GetDouble();\n",
    "double topPValue = doc.RootElement.GetProperty(\"top_p\").GetDouble();\n",
    "\n",
    "Console.WriteLine($\"🌡️ What TEMPERATURE setting was used?\\n\\n> {temperatureValue} (0 is 🥶 ; 1 is 🥵)\\n\");\n",
    "Console.WriteLine($\"🙊 What TOP P setting was used?\\n\\n> {topPValue} (0 is 😑 ; 1 is 🤯)\");"
   ]
  }
 ],
 "metadata": {
  "language_info": {
   "name": "python"
  },
  "orig_nbformat": 4
 },
 "nbformat": 4,
 "nbformat_minor": 2
}
