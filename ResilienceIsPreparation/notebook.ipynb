{
 "cells": [
  {
   "cell_type": "markdown",
   "metadata": {},
   "source": [
    "# Tracy Reinhold: Global Security and Resilience Authority\n",
    "\n",
    "### \"You can get ahead of threats by being informed and having the technological capabilities to actually take action on that intelligence once you’ve acquired it. So if you’re consistently in a reactive mode, you will eventually fail. By proactively reducing risk and vulnerability, we can create an environment that allows a company to be successful.\" —via [Security Magazine](https://www.securitymagazine.com/articles/96603-5-minutes-with-tracy-reinhold-critical-event-management-for-enterprise-resilience)\n",
    "\n",
    "### We consider the arc of a critical event and the way Tracy considers the future of predictive approaches with AI.\n",
    "\n",
    "| Before the 💥 Boom | During the 💥 Boom | After the 💥 Boom |\n",
    "|---|---|---|\n",
    "\n",
    "Note that there are three phases to a critical event: before, during, and after. The critical event is often referred to as \"💥 boom\" or \"💥 bang.\""
   ]
  },
  {
   "cell_type": "markdown",
   "metadata": {},
   "source": [
    "Instructions for getting cozy with this AI recipe are on the [GitHub page's README](https://aka.ms/CAIK-repo). "
   ]
  },
  {
   "cell_type": "markdown",
   "metadata": {},
   "source": [
    "# 🧑‍🍳 Recipe for AI-driven Operational Resilience\n",
    "\n",
    "- ~500 tokens from COMPLETION Pre-trained Foundation Model\n",
    "- ~1000 tokens from EMBEDDING Pre-trained Foundation Model\n",
    " \n",
    "First, register a variety of pieces of data into the memory store with the EMBEDDING model's help.\n",
    "\n",
    "Then we look for any patterns that could be troubling.\n",
    "\n",
    "Take all those patterns and generate a quick report."
   ]
  },
  {
   "cell_type": "markdown",
   "metadata": {},
   "source": [
    "> [!IMPORTANT]\n",
    "> You will need an [.Net 7 SDK](https://dotnet.microsoft.com/en-us/download) and [Polyglot](https://marketplace.visualstudio.com/items?itemName=ms-dotnettools.dotnet-interactive-vscode) to get started with this notebook using .Net Interactive"
   ]
  },
  {
   "cell_type": "markdown",
   "metadata": {},
   "source": [
    "# Gather the core tools 🧰\n",
    "\n",
    "When running the following cell, if asked to \"select your kernel\" (note this will be referring to the Jupyter notebook's kernel and not Semantic Kernel) then choose `.NET Interactive` from the available menu options."
   ]
  },
  {
   "cell_type": "code",
   "execution_count": null,
   "metadata": {
    "dotnet_interactive": {
     "language": "csharp"
    },
    "polyglot_notebook": {
     "kernelName": "csharp"
    },
    "vscode": {
     "languageId": "polyglot-notebook"
    }
   },
   "outputs": [],
   "source": [
    "// Load some helper functions, e.g. to load values from settings.json\n",
    "#!import ../config/Settings.cs \n",
    "\n",
    "#r \"nuget: Microsoft.SemanticKernel, 1.0.0-beta3\"\n",
    "#r \"nuget: System.Linq.Async, 6.0.1\""
   ]
  },
  {
   "cell_type": "markdown",
   "metadata": {},
   "source": [
    "# Fire up a kernel with TWO models 🔥"
   ]
  },
  {
   "cell_type": "code",
   "execution_count": null,
   "metadata": {
    "dotnet_interactive": {
     "language": "csharp"
    },
    "polyglot_notebook": {
     "kernelName": "csharp"
    },
    "vscode": {
     "languageId": "polyglot-notebook"
    }
   },
   "outputs": [],
   "source": [
    "using Microsoft.SemanticKernel;\n",
    "using Microsoft.SemanticKernel.Orchestration;\n",
    "using Microsoft.SemanticKernel.Plugins.Memory;\n",
    "using Microsoft.SemanticKernel.Connectors.AI.OpenAI;\n",
    "\n",
    "var (useAzureOpenAI, model, azureEndpoint, apiKey, orgId) = Settings.LoadFromFile();\n",
    "\n",
    "var memoryBuilder = new MemoryBuilder();\n",
    "var kernelBuilder = new KernelBuilder();\n",
    "\n",
    "if (useAzureOpenAI)\n",
    "{\n",
    "    memoryBuilder.WithAzureTextEmbeddingGenerationService(\"text-embedding-ada-002\", azureEndpoint, apiKey);\n",
    "    kernelBuilder.WithAzureChatCompletionService(model, azureEndpoint, apiKey);\n",
    "}\n",
    "else\n",
    "{\n",
    "    memoryBuilder.WithOpenAITextEmbeddingGenerationService(\"text-embedding-ada-002\", apiKey);\n",
    "    kernelBuilder.WithOpenAIChatCompletionService(model, apiKey, orgId);\n",
    "}\n",
    "\n",
    "memoryBuilder.WithMemoryStore(new VolatileMemoryStore());\n",
    "\n",
    "var kernel = kernelBuilder.Build();\n",
    "var memory = memoryBuilder.Build();"
   ]
  },
  {
   "cell_type": "markdown",
   "metadata": {},
   "source": [
    "# Generate embeddings for later 🧲 gathering"
   ]
  },
  {
   "cell_type": "code",
   "execution_count": null,
   "metadata": {
    "dotnet_interactive": {
     "language": "csharp"
    },
    "polyglot_notebook": {
     "kernelName": "csharp"
    },
    "vscode": {
     "languageId": "polyglot-notebook"
    }
   },
   "outputs": [],
   "source": [
    "const string MemoryCollectionName = \"kevinQuotes\";\n",
    "\n",
    "// Kevin quoted by his fans on GoodReads: https://www.goodreads.com/author/quotes/21599683.Kevin_G_Bethune\n",
    "\n",
    "await memory.SaveInformationAsync(MemoryCollectionName, id: \"ReimaginingDesign1\", \n",
    "    text: \"I believe it’s very important to be more up-front about the hard realities we will face as innovators and still push ourselves forward with a sense of optimism and courage.\");\n",
    "await memory.SaveInformationAsync(MemoryCollectionName, id: \"ReimaginingDesign2\", \n",
    "    text: \"The team needs to learn how to work together, align around the right imperatives, and develop their unique chemistry.\");\n",
    "await memory.SaveInformationAsync(MemoryCollectionName, id: \"ReimaginingDesign3\", \n",
    "    text: \"The constellation of insights must line up in a compelling way, and usually those insights need to come from different vantage points to ensure an idea has a shot of making it into a well-timed, successful innovation that is desirable, viable, and technically feasible.\");\n",
    "await memory.SaveInformationAsync(MemoryCollectionName, id: \"ReimaginingDesign4\", \n",
    "    text: \"We should leverage uncertainty for the powerful, creativity-inducing variable that it is.\");\n",
    "await memory.SaveInformationAsync(MemoryCollectionName, id: \"ReimaginingDesign5\", \n",
    "    text: \"The quest for innovation against newly emerging realities requires us to bring disparate teams closer together and to create more bandwidth for actually collaborating with one another.\");\n",
    "await memory.SaveInformationAsync(MemoryCollectionName, id: \"ReimaginingDesign6\", \n",
    "    text: \"Design still fights the perception of being the very last step in the value stream.\");\n",
    "await memory.SaveInformationAsync(MemoryCollectionName, id: \"ReimaginingDesign7\", \n",
    "    text: \"Thanks to design thinking, most organizations are beginning to see the value of embracing design earlier in their processes.\");\n",
    "await memory.SaveInformationAsync(MemoryCollectionName, id: \"ReimaginingDesign8\", \n",
    "    text: \"Moving on to incubation, as we build out our designed experiences, the designer should no longer (and can no longer) work in isolation from other disciplines.\");\n",
    "await memory.SaveInformationAsync(MemoryCollectionName, id: \"ReimaginingDesign9\", \n",
    "    text: \"Design will play an important role in stringing the collective team’s efforts together in a cohesive way to optimize impact in the marketplace.\");"
   ]
  },
  {
   "cell_type": "markdown",
   "metadata": {},
   "source": [
    "# Experiment 🧪 with what you think is relevant and important "
   ]
  },
  {
   "cell_type": "code",
   "execution_count": null,
   "metadata": {
    "dotnet_interactive": {
     "language": "csharp"
    },
    "polyglot_notebook": {
     "kernelName": "csharp"
    },
    "vscode": {
     "languageId": "polyglot-notebook"
    }
   },
   "outputs": [],
   "source": [
    "var questions = new[]\n",
    "{\n",
    "    \"how to make a pizza\",\n",
    "    \"challenges of businesses\"\n",
    "};\n",
    "\n",
    "foreach (var q in questions)\n",
    "{\n",
    "    var response = await kernel.Memory.SearchAsync(MemoryCollectionName, q).FirstOrDefaultAsync();\n",
    "    Console.WriteLine($\"{q}\\n> {response?.Metadata.Text}\");\n",
    "}"
   ]
  },
  {
   "cell_type": "markdown",
   "metadata": {},
   "source": [
    "# Plate the partially finished meal 🍽️"
   ]
  },
  {
   "cell_type": "code",
   "execution_count": null,
   "metadata": {
    "dotnet_interactive": {
     "language": "csharp"
    },
    "polyglot_notebook": {
     "kernelName": "csharp"
    },
    "vscode": {
     "languageId": "polyglot-notebook"
    }
   },
   "outputs": [],
   "source": [
    "using Microsoft.AspNetCore.Html;\n",
    "using Markdig;\n",
    "\n",
    "String foundInMemory = \"\";\n",
    "\n",
    "foreach (var q in questions)\n",
    "{\n",
    "    var response = await memory.SearchAsync(MemoryCollectionName, q).FirstOrDefaultAsync();\n",
    "   foundInMemory += $\"## {q}\\n> {response?.Metadata.Text}\\n\\n\";\n",
    "}\n",
    "\n",
    "var myPipeline = new MarkdownPipelineBuilder().UseAdvancedExtensions().Build();\n",
    "var myResult2HTML = Markdown.ToHtml(foundInMemory, myPipeline);\n",
    "var myHTMLContent = new HtmlContentBuilder();\n",
    "\n",
    "myHTMLContent.AppendHtml(myResult2HTML);\n",
    "myHTMLContent"
   ]
  },
  {
   "cell_type": "markdown",
   "metadata": {},
   "source": [
    "# Now let's use a ✨ COMPLETION model that's grounded"
   ]
  },
  {
   "cell_type": "code",
   "execution_count": null,
   "metadata": {
    "dotnet_interactive": {
     "language": "csharp"
    },
    "polyglot_notebook": {
     "kernelName": "csharp"
    },
    "vscode": {
     "languageId": "polyglot-notebook"
    }
   },
   "outputs": [],
   "source": [
    "var pluginsSKDirectory = \"plugins-sk\";\n",
    "\n",
    "var mnFunctions = kernel.ImportSemanticSkillFromDirectory(pluginsSKDirectory, \"Mentor\");\n",
    "\n",
    "var result = await kernel.RunAsync(@\"\n",
    "What should I become?\", mnFunctions[\"CareerAdviceGeneric\"]);\n",
    "var resultString = result.GetValue<string>();\n",
    "Console.WriteLine(resultString);\n"
   ]
  },
  {
   "cell_type": "markdown",
   "metadata": {},
   "source": [
    "That was totally made up. Right? Let's now get the model grounded in things that Kevin actually believes in :+)."
   ]
  },
  {
   "cell_type": "code",
   "execution_count": null,
   "metadata": {
    "dotnet_interactive": {
     "language": "csharp"
    },
    "polyglot_notebook": {
     "kernelName": "csharp"
    },
    "vscode": {
     "languageId": "polyglot-notebook"
    }
   },
   "outputs": [],
   "source": [
    "using Microsoft.SemanticKernel.Orchestration;\n",
    "\n",
    "var myContext = new ContextVariables(); \n",
    "\n",
    "myContext.Set(\"input\", \"What should I become?\"); \n",
    "myContext.Set(\"beliefs\", \"I believe it’s very important to be more up-front about the hard realities we will face as innovators and still push ourselves forward with a sense of optimism and courage.\"); \n",
    "\n",
    "var myResult = await kernel.RunAsync(myContext,mnFunctions[\"CareerAdviceGrounded\"]);\n",
    "var resultString = result.GetValue<string>();\n",
    "\n",
    "Console.WriteLine(myResult);\n"
   ]
  },
  {
   "cell_type": "markdown",
   "metadata": {},
   "source": [
    "# Let's look at the science 📐"
   ]
  },
  {
   "cell_type": "code",
   "execution_count": null,
   "metadata": {
    "dotnet_interactive": {
     "language": "csharp"
    },
    "polyglot_notebook": {
     "kernelName": "csharp"
    },
    "vscode": {
     "languageId": "polyglot-notebook"
    }
   },
   "outputs": [],
   "source": [
    "using System.Text.Json;\n",
    "using Microsoft.SemanticKernel;\n",
    "using Microsoft.SemanticKernel.AI;\n",
    "\n",
    "var usageresult = myResult.FunctionResults.SelectMany(l => l.GetModelResults() ?? Enumerable.Empty<ModelResult>()).LastOrDefault()?.GetOpenAIChatResult()?.Usage;\n",
    "var injson = JsonSerializer.Serialize(usageresult, new JsonSerializerOptions { WriteIndented = true });\n",
    "Console.WriteLine($\"🧱 The MODEL used:\\n\\n> {model}\\n\");\n",
    "Console.WriteLine($\"💸 How many TOKENS were used?\\n\\n{injson}\\n\");\n",
    "String functionName = \"CareerAdviceGrounded\";\n",
    "\n",
    "var reqjson = JsonSerializer.Serialize(mnFunctions[functionName].RequestSettings, new JsonSerializerOptions { WriteIndented = true });\n",
    "var doc = JsonDocument.Parse(reqjson);\n",
    "double temperatureValue = doc.RootElement.GetProperty(\"temperature\").GetDouble();\n",
    "double topPValue = doc.RootElement.GetProperty(\"top_p\").GetDouble();\n",
    "\n",
    "Console.WriteLine($\"🌡️ What TEMPERATURE setting was used?\\n\\n> {temperatureValue} (0 is 🥶 ; 1 is 🥵)\\n\");\n",
    "Console.WriteLine($\"🙊 What TOP P setting was used?\\n\\n> {topPValue} (0 is 😑 ; 1 is 🤯)\");"
   ]
  }
 ],
 "metadata": {
  "language_info": {
   "name": "python"
  },
  "orig_nbformat": 4
 },
 "nbformat": 4,
 "nbformat_minor": 2
}
